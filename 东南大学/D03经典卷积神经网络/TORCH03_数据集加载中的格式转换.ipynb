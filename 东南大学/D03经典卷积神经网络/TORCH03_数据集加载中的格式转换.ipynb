{
 "cells": [
  {
   "cell_type": "markdown",
   "metadata": {},
   "source": [
    "# PyTorch提供的数据转换功能"
   ]
  },
  {
   "cell_type": "markdown",
   "metadata": {},
   "source": [
    "## PyTorch提供的转换类与函数"
   ]
  },
  {
   "cell_type": "markdown",
   "metadata": {},
   "source": [
    "- 在数据集读取类的构造器中，都有一个transform与 target_transform参数：\n",
    "    - transform实现数据集转换。\n",
    "    - target_transform：实现标签转换。"
   ]
  },
  {
   "cell_type": "markdown",
   "metadata": {},
   "source": [
    "- 下面是一个例子\n",
    "    - 如果不进行格式转换DataLoader会无法识别格式，因为只支持Tensor。"
   ]
  },
  {
   "cell_type": "code",
   "execution_count": 1,
   "metadata": {},
   "outputs": [
    {
     "name": "stdout",
     "output_type": "stream",
     "text": [
      "torch.Size([10000, 1, 28, 28]) torch.Size([10000])\n",
      "torch.Size([10000, 1, 28, 28]) torch.Size([10000])\n",
      "torch.Size([10000, 1, 28, 28]) torch.Size([10000])\n",
      "torch.Size([10000, 1, 28, 28]) torch.Size([10000])\n",
      "torch.Size([10000, 1, 28, 28]) torch.Size([10000])\n",
      "torch.Size([10000, 1, 28, 28]) torch.Size([10000])\n"
     ]
    }
   ],
   "source": [
    "from torchvision.datasets import MNIST\n",
    "from torch.utils.data import DataLoader\n",
    "from torchvision.transforms import ToTensor\n",
    "train_mnist = MNIST(root=\"./datasets\", train=True, download=False,transform=ToTensor())\n",
    "\n",
    "loader = DataLoader(train_mnist, batch_size=10000, shuffle=True, drop_last=False)\n",
    "for d, t in loader:    # 数据与标签\n",
    "    print(d.shape, t.shape)"
   ]
  },
  {
   "cell_type": "markdown",
   "metadata": {},
   "source": [
    "- PyTorch提供了哪些转换功能呢，这类专门梳理一下。\n",
    "    1. PIL图像转换：Transforms on PIL Image\n",
    "        - torchvision.transforms.CenterCrop(size)\n",
    "        - torchvision.transforms.ColorJitter(brightness=0, contrast=0, saturation=0, hue=0)\n",
    "        - torchvision.transforms.FiveCrop(size)\n",
    "        - torchvision.transforms.Grayscale(num_output_channels=1)\n",
    "        - torchvision.transforms.Pad(padding, fill=0, padding_mode='constant')\n",
    "        - torchvision.transforms.RandomAffine(degrees, translate=None, scale=None, shear=None, resample=False, fillcolor=0)\n",
    "        - torchvision.transforms.RandomCrop(size, padding=None, pad_if_needed=False, fill=0, padding_mode='constant')\n",
    "        - torchvision.transforms.RandomGrayscale(p=0.1)\n",
    "        - torchvision.transforms.RandomHorizontalFlip(p=0.5)\n",
    "        - torchvision.transforms.RandomPerspective(distortion_scale=0.5, p=0.5, interpolation=3)\n",
    "        - torchvision.transforms.RandomResizedCrop(size, scale=(0.08, 1.0), ratio=(0.75, 1.3333333333333333), interpolation=2)\n",
    "        - torchvision.transforms.RandomRotation(degrees, resample=False, expand=False, center=None, fill=0)\n",
    "        - torchvision.transforms.RandomSizedCrop(\\*args, \\*\\*kwargs)\n",
    "        - torchvision.transforms.RandomVerticalFlip(p=0.5)\n",
    "        - torchvision.transforms.Resize(size, interpolation=2)\n",
    "        - torchvision.transforms.Scale(\\*args, \\*\\*kwargs)\n",
    "        - torchvision.transforms.TenCrop(size, vertical_flip=False)\n",
    "        - \n",
    "        \n",
    "    2. 不同Tensor类型间的转换：Transforms on torch.*Tensor\n",
    "        - torchvision.transforms.LinearTransformation(transformation_matrix, mean_vector)\n",
    "        - torchvision.transforms.Normalize(mean, std, inplace=False)\n",
    "        - torchvision.transforms.RandomErasing(p=0.5, scale=(0.02, 0.33), ratio=(0.3, 3.3), value=0, inplace=False)\n",
    "    3. 逆向转换：Conversion Transforms\n",
    "        - torchvision.transforms.ToPILImage(mode=None)\n",
    "        - torchvision.transforms.ToTensor()\n",
    "    4. 通用转换：Generic Transforms\n",
    "        - torchvision.transforms.Lambda(lambd)\n",
    "        \n",
    "    5. 功能函数转换：Functional Transforms（Python的老套路，很多类最后使用函数封装调用，提供方便，自己注意与上面的对应）\n",
    "        - torchvision.transforms.functional.adjust_brightness(img, brightness_factor)\n",
    "        - torchvision.transforms.functional.adjust_contrast(img, contrast_factor)\n",
    "        - torchvision.transforms.functional.adjust_gamma(img, gamma, gain=1)\n",
    "        - torchvision.transforms.functional.adjust_hue(img, hue_factor)\n",
    "        - torchvision.transforms.functional.adjust_saturation(img, saturation_factor)\n",
    "        - torchvision.transforms.functional.affine(img, angle, translate, scale, shear, resample=0, fillcolor=None)\n",
    "        - torchvision.transforms.functional.center_crop(img, output_size)\n",
    "        - torchvision.transforms.functional.crop(img, top, left, height, width)\n",
    "        - torchvision.transforms.functional.erase(img, i, j, h, w, v, inplace=False)\n",
    "        - torchvision.transforms.functional.five_crop(img, size)\n",
    "        - torchvision.transforms.functional.hflip(img)\n",
    "        - torchvision.transforms.functional.normalize(tensor, mean, std, inplace=False)\n",
    "        - torchvision.transforms.functional.pad(img, padding, fill=0, padding_mode='constant')\n",
    "        - torchvision.transforms.functional.perspective(img, startpoints, endpoints, interpolation=3)\n",
    "        - torchvision.transforms.functional.resize(img, size, interpolation=2)\n",
    "        - torchvision.transforms.functional.resized_crop(img, top, left, height, width, size, interpolation=2)\n",
    "        - torchvision.transforms.functional.rotate(img, angle, resample=False, expand=False, center=None, fill=0)\n",
    "        - torchvision.transforms.functional.ten_crop(img, size, vertical_flip=False)\n",
    "        - torchvision.transforms.functional.to_grayscale(img, num_output_channels=1)\n",
    "        - torchvision.transforms.functional.to_pil_image(pic, mode=None)\n",
    "        - torchvision.transforms.functional.to_tensor(pic)\n",
    "        - torchvision.transforms.functional.vflip(img)\n",
    "        - \n",
    "    6. 复合与组合转换\n",
    "        - torchvision.transforms.Compose(transforms)\n",
    "        - torchvision.transforms.RandomApply(transforms, p=0.5)\n",
    "        - torchvision.transforms.RandomChoice(transforms)\n",
    "        - torchvision.transforms.RandomOrder(transforms)"
   ]
  },
  {
   "cell_type": "markdown",
   "metadata": {},
   "source": [
    "## 转换类与函数的使用"
   ]
  },
  {
   "cell_type": "code",
   "execution_count": 2,
   "metadata": {},
   "outputs": [
    {
     "name": "stdout",
     "output_type": "stream",
     "text": [
      "-----转换对象的使用-----\n",
      "torch.Size([10000, 1, 28, 28]) torch.Size([10000])\n",
      "torch.Size([10000, 1, 28, 28]) torch.Size([10000])\n",
      "torch.Size([10000, 1, 28, 28]) torch.Size([10000])\n",
      "torch.Size([10000, 1, 28, 28]) torch.Size([10000])\n",
      "torch.Size([10000, 1, 28, 28]) torch.Size([10000])\n",
      "torch.Size([10000, 1, 28, 28]) torch.Size([10000])\n",
      "-----转换函数的使用-----\n",
      "torch.Size([10000, 1, 28, 28]) torch.Size([10000])\n",
      "torch.Size([10000, 1, 28, 28]) torch.Size([10000])\n",
      "torch.Size([10000, 1, 28, 28]) torch.Size([10000])\n",
      "torch.Size([10000, 1, 28, 28]) torch.Size([10000])\n",
      "torch.Size([10000, 1, 28, 28]) torch.Size([10000])\n",
      "torch.Size([10000, 1, 28, 28]) torch.Size([10000])\n"
     ]
    }
   ],
   "source": [
    "from torchvision.datasets import MNIST\n",
    "from torch.utils.data import DataLoader\n",
    "from torchvision.transforms import ToTensor\n",
    "from torchvision.transforms.functional import to_tensor\n",
    "\n",
    "print(\"-----转换对象的使用-----\")   \n",
    "train_mnist = MNIST(root=\"./datasets\", train=True, download=False,transform=ToTensor())   # 对象是可调用对象\n",
    "loader = DataLoader(train_mnist, batch_size=10000, shuffle=True, drop_last=False)\n",
    "for d, t in loader:    # 数据与标签\n",
    "    print(d.shape, t.shape)\n",
    "    \n",
    "print(\"-----转换函数的使用-----\")\n",
    "train_mnist = MNIST(root=\"./datasets\", train=True, download=False,transform=to_tensor)\n",
    "loader = DataLoader(train_mnist, batch_size=10000, shuffle=True, drop_last=False)\n",
    "for d, t in loader:    # 数据与标签\n",
    "    print(d.shape, t.shape)\n",
    "    "
   ]
  },
  {
   "cell_type": "markdown",
   "metadata": {},
   "source": [
    "## 单独使用转换"
   ]
  },
  {
   "cell_type": "markdown",
   "metadata": {},
   "source": [
    "1. 图像加载没有做任何处理，直接加载为PIL.Image.Image对象"
   ]
  },
  {
   "cell_type": "code",
   "execution_count": 3,
   "metadata": {},
   "outputs": [
    {
     "name": "stdout",
     "output_type": "stream",
     "text": [
      "<class 'PIL.Image.Image'>\n"
     ]
    }
   ],
   "source": [
    "from torchvision.datasets import MNIST\n",
    "from torch.utils.data import DataLoader\n",
    "from torchvision.transforms import ToTensor\n",
    "\n",
    "train_mnist = MNIST(root=\"./datasets\", train=True, download=False)\n",
    "print(type(train_mnist[0][0]))"
   ]
  },
  {
   "cell_type": "markdown",
   "metadata": {},
   "source": [
    "2. 使用类转换图像\n",
    "    - torchvision.transforms.Resize(size, interpolation=2)：改变图像大小\n",
    "        - interpolation参数表示：图像放大缩小过程中的插值算法\n",
    "    - 这些对象都是可调用对象，直接使用。"
   ]
  },
  {
   "cell_type": "code",
   "execution_count": 8,
   "metadata": {},
   "outputs": [
    {
     "name": "stdout",
     "output_type": "stream",
     "text": [
      "<class 'PIL.Image.Image'> (32, 32)\n"
     ]
    }
   ],
   "source": [
    "from torchvision.datasets import MNIST\n",
    "from torch.utils.data import DataLoader\n",
    "from torchvision.transforms import Resize\n",
    "\n",
    "train_mnist = MNIST(root=\"./datasets\", train=True, download=False)\n",
    "\n",
    "\n",
    "resize = Resize((32,32))    # 放大图像\n",
    "img_out = resize(train_mnist[0][0])\n",
    "print(type(img_out), img_out.size) "
   ]
  },
  {
   "cell_type": "markdown",
   "metadata": {},
   "source": [
    "3. 使用函数转换图像\n",
    "    - 函数因为带参数，所以在图像加载的时候，不好使用函数作为转换器。"
   ]
  },
  {
   "cell_type": "code",
   "execution_count": 11,
   "metadata": {},
   "outputs": [
    {
     "name": "stdout",
     "output_type": "stream",
     "text": [
      "<class 'PIL.Image.Image'> (45, 45)\n"
     ]
    }
   ],
   "source": [
    "from torchvision.datasets import MNIST\n",
    "from torch.utils.data import DataLoader\n",
    "import torchvision.transforms.functional\n",
    "\n",
    "train_mnist = MNIST(root=\"./datasets\", train=True, download=False)\n",
    "\n",
    "\n",
    "\n",
    "img_out = torchvision.transforms.functional.resize(train_mnist[0][0], size=(45, 45), interpolation=2)\n",
    "print(type(img_out), img_out.size) "
   ]
  },
  {
   "cell_type": "markdown",
   "metadata": {},
   "source": [
    "## 复合转换器的使用"
   ]
  },
  {
   "cell_type": "code",
   "execution_count": 13,
   "metadata": {},
   "outputs": [
    {
     "name": "stdout",
     "output_type": "stream",
     "text": [
      "torch.Size([10000, 1, 50, 50]) <class 'torch.Tensor'>\n",
      "torch.Size([10000, 1, 50, 50]) <class 'torch.Tensor'>\n",
      "torch.Size([10000, 1, 50, 50]) <class 'torch.Tensor'>\n",
      "torch.Size([10000, 1, 50, 50]) <class 'torch.Tensor'>\n",
      "torch.Size([10000, 1, 50, 50]) <class 'torch.Tensor'>\n",
      "torch.Size([10000, 1, 50, 50]) <class 'torch.Tensor'>\n"
     ]
    }
   ],
   "source": [
    "from torchvision.datasets import MNIST\n",
    "from torch.utils.data import DataLoader\n",
    "from torchvision.transforms import Resize\n",
    "from torchvision.transforms import ToTensor\n",
    "from torchvision.transforms import Compose\n",
    "\n",
    "\n",
    "\n",
    "re_size = Resize((50, 50))    # 放大图像\n",
    "\n",
    "to_tensor = ToTensor()\n",
    "comp = Compose([re_size, to_tensor])\n",
    "\n",
    "train_mnist = MNIST(root=\"./datasets\", train=True, download=False, transform=comp)\n",
    "\n",
    "loader = DataLoader(train_mnist, batch_size=10000, shuffle=True, drop_last=False)\n",
    "for d, t in loader:    # 数据与标\n",
    "    print(d.shape, type(d))"
   ]
  },
  {
   "cell_type": "markdown",
   "metadata": {},
   "source": [
    "# 图像相关的转换使用详解"
   ]
  },
  {
   "cell_type": "markdown",
   "metadata": {},
   "source": [
    "- **略**（有空再补充）"
   ]
  },
  {
   "cell_type": "markdown",
   "metadata": {},
   "source": [
    "------"
   ]
  }
 ],
 "metadata": {
  "kernelspec": {
   "display_name": "Python 3",
   "language": "python",
   "name": "python3"
  },
  "language_info": {
   "codemirror_mode": {
    "name": "ipython",
    "version": 3
   },
   "file_extension": ".py",
   "mimetype": "text/x-python",
   "name": "python",
   "nbconvert_exporter": "python",
   "pygments_lexer": "ipython3",
   "version": "3.6.6"
  }
 },
 "nbformat": 4,
 "nbformat_minor": 4
}
