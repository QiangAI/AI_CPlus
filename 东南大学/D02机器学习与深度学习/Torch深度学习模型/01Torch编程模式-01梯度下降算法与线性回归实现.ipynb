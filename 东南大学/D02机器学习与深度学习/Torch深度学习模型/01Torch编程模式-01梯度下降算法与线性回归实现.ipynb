{
 "cells": [
  {
   "cell_type": "markdown",
   "metadata": {},
   "source": [
    "# 梯度下降算法"
   ]
  },
  {
   "cell_type": "markdown",
   "metadata": {},
   "source": [
    "## 梯度下降思想\n",
    "\n",
    "- 梯度下降是给定一个函数，找到这个函数的最小值点的方法或者算法：（最小值比较常用：比如损失最小）\n",
    "    1. 两个操作\n",
    "        1. 使用导数作为下降方向；\n",
    "        2. 用户定义一个因子作为梯度下降的速度；\n",
    "    2. 反复执行操作，可以接近最小值"
   ]
  },
  {
   "cell_type": "markdown",
   "metadata": {},
   "source": [
    "## 梯度下降的例子\n",
    "\n",
    "- 求如下函数的极小值\n",
    "    - $f(x) = x^2 - 2x + 1 = (x-1)^2$\n",
    "    - 最小值点在$x=1$"
   ]
  },
  {
   "cell_type": "markdown",
   "metadata": {},
   "source": [
    "### 使用numpy实现梯度下降"
   ]
  },
  {
   "cell_type": "code",
   "execution_count": 9,
   "metadata": {},
   "outputs": [
    {
     "data": {
      "image/png": "[encoded data removed]",
      "text/plain": [
       "<Figure size 432x288 with 1 Axes>"
      ]
     },
     "metadata": {
      "needs_background": "light"
     },
     "output_type": "display_data"
    }
   ],
   "source": [
    "import numpy as np\n",
    "x = 0  # 最小值点的初始值：肯定不正确，迭代后应该接近1\n",
    "learn_rate = 0.01   # 学习率，控制梯度的下降速度\n",
    "grad_fn = lambda x: 2 * x - 2    # 导数函数\n",
    "\n",
    "epoch = 400  # 梯度下降的迭代次数\n",
    "\n",
    "x_list = []\n",
    "\n",
    "for epoch in range(epoch):\n",
    "    x_grad = grad_fn(x)      # 计算导数 ( 梯度 )\n",
    "    x -= x_grad * learn_rate          # 迭代梯度\n",
    "    \n",
    "    x_list.append(x)\n",
    "\n",
    "# 可视化最小值点逼近过程\n",
    "%matplotlib inline\n",
    "import matplotlib.pyplot as plt\n",
    "\n",
    "plt.plot(range(epoch), x_list[0:-1])\n",
    "plt.show()\n"
   ]
  },
  {
   "cell_type": "markdown",
   "metadata": {},
   "source": [
    "### 使用torch实现梯度下降"
   ]
  },
  {
   "cell_type": "code",
   "execution_count": 22,
   "metadata": {},
   "outputs": [
    {
     "data": {
      "image/png": "[encoded data removed]",
      "text/plain": [
       "<Figure size 432x288 with 1 Axes>"
      ]
     },
     "metadata": {
      "needs_background": "light"
     },
     "output_type": "display_data"
    }
   ],
   "source": [
    "import torch \n",
    "\n",
    "x = torch.Tensor([0.1])  # 最小值点的初始值：肯定不正确，迭代后应该接近1\n",
    "x.requires_grad=True\n",
    "\n",
    "learn_rate = 0.01   # 学习率，控制梯度的下降速度\n",
    "\n",
    "\n",
    "epoch = 400  # 梯度下降的迭代次数\n",
    "\n",
    "x_list = []\n",
    "\n",
    "for epoch in range(epoch):\n",
    "    y = x ** 2 - 2 * x + 1\n",
    "    y.backward(retain_graph=True)   # 反复计算梯度\n",
    "#     print(x.grad)\n",
    "    with torch.autograd.no_grad():   #\n",
    "        x -= learn_rate * x.grad     # 直接修改就不允许做数据运算，否则会被跟踪计算历史\n",
    "        x_list.append(x.detach().clone().numpy())    # 防止公用数据区\n",
    "        x.grad.zero_()\n",
    "\n",
    "# 可视化最小值点逼近过程\n",
    "%matplotlib inline\n",
    "import matplotlib.pyplot as plt\n",
    "\n",
    "plt.plot(range(epoch), x_list[0:-1])\n",
    "plt.show()\n",
    "\n"
   ]
  },
  {
   "cell_type": "markdown",
   "metadata": {},
   "source": [
    "# 线性回归实现"
   ]
  },
  {
   "cell_type": "markdown",
   "metadata": {},
   "source": [
    "## 线性回归模型"
   ]
  },
  {
   "cell_type": "markdown",
   "metadata": {},
   "source": [
    "### 预测输出模型"
   ]
  },
  {
   "cell_type": "markdown",
   "metadata": {},
   "source": [
    "- $y=xW$    \n",
    "    - 其中:     \n",
    "        - $x=(x_1,x_2,\\dots,x_n,1)$    \n",
    "        - $W^T=(w_1,w_2,\\dots,w_n,b)$\n",
    "\n"
   ]
  },
  {
   "cell_type": "markdown",
   "metadata": {},
   "source": [
    "### 损失模型"
   ]
  },
  {
   "cell_type": "markdown",
   "metadata": {},
   "source": [
    "- 通用表示模型：$J(W)=\\dfrac{1}{2}\\sum\\limits_{i=1}^{m}(x^{(i)}W-y^{(i)})^2$      \n",
    "- 矩阵内积表示模型： $J(W)=\\dfrac{1}{2}(XW-Y)^T(XW-Y)$  ，其中\n",
    "    - $X=\\pmatrix{x^{(1)}\\\\x^{(2)}\\\\\\vdots\\\\x^{(m)}}$，$Y=\\pmatrix{y^{(1)}\\\\y^{(2)}\\\\\\vdots\\\\y^{(m)}}$     "
   ]
  },
  {
   "cell_type": "markdown",
   "metadata": {},
   "source": [
    "### Torch实现\n",
    "\n",
    "- 使用一个身高与年龄的数据集，训练出他们之间的线性关系，这个数据集是一元的线性关系。"
   ]
  },
  {
   "cell_type": "markdown",
   "metadata": {},
   "source": [
    "#### 数据集"
   ]
  },
  {
   "cell_type": "code",
   "execution_count": 36,
   "metadata": {},
   "outputs": [
    {
     "data": {
      "image/png": "[encoded data removed]",
      "text/plain": [
       "<Figure size 432x288 with 1 Axes>"
      ]
     },
     "metadata": {
      "needs_background": "light"
     },
     "output_type": "display_data"
    }
   ],
   "source": [
    "%matplotlib inline\n",
    "import matplotlib.pyplot as plt\n",
    "import numpy as np\n",
    "\n",
    "age = np.loadtxt(\"datasets/ex2x.dat\")   # age：年龄\n",
    "height = np.loadtxt(\"datasets/ex2y.dat\")   # height：身高\n",
    "\n",
    "plt.scatter(age, height, color=(0, 0, 1, 1), s=1**2)\n",
    "plt.show()"
   ]
  },
  {
   "cell_type": "markdown",
   "metadata": {},
   "source": [
    "#### forward模型表示\n",
    "- 不考虑偏置项：$y = xW$\n",
    "- 考虑偏置项：$y = xW + b$  "
   ]
  },
  {
   "cell_type": "code",
   "execution_count": 115,
   "metadata": {},
   "outputs": [],
   "source": [
    "import torch\n",
    "\n",
    "# 随机权重系数\n",
    "w = torch.randn(1, 1, dtype=torch.float64)\n",
    "# 随机偏置项\n",
    "b = torch.randn(1, dtype=torch.float64)\n",
    "\n",
    "# 把前面加载的numpy数据集转换为Tensor（注意shape）\n",
    "x = torch.from_numpy(np.mat(age).T)   \n",
    "y = torch.from_numpy(np.mat(height).T)\n",
    "# forward的输出模型\n",
    "y_ = x @ w + b\n"
   ]
  },
  {
   "cell_type": "markdown",
   "metadata": {},
   "source": [
    "#### 损失模型表示\n",
    "\n",
    "- $J(W)=\\dfrac{1}{2}\\sum\\limits_{i=1}^{m}(x^{(i)}W-y^{(i)})^2$     "
   ]
  },
  {
   "cell_type": "code",
   "execution_count": 117,
   "metadata": {},
   "outputs": [
    {
     "name": "stdout",
     "output_type": "stream",
     "text": [
      "tensor(40.6979, dtype=torch.float64)\n"
     ]
    }
   ],
   "source": [
    "loss = torch.mean((y - y_) ** 2)    #  上面的是平方和，没有使用平均值，这里采用平均值方式\n",
    "print(loss)"
   ]
  },
  {
   "cell_type": "markdown",
   "metadata": {},
   "source": [
    "#### 损失最小值求解：梯度下降"
   ]
  },
  {
   "cell_type": "code",
   "execution_count": 111,
   "metadata": {},
   "outputs": [
    {
     "data": {
      "image/png": "[encoded data removed]",
      "text/plain": [
       "<Figure size 432x288 with 1 Axes>"
      ]
     },
     "metadata": {
      "needs_background": "light"
     },
     "output_type": "display_data"
    }
   ],
   "source": [
    "%matplotlib inline\n",
    "import matplotlib.pyplot as plt\n",
    "import numpy as np\n",
    "import torch\n",
    "\n",
    "# 1. 数据集加载------------------\n",
    "age = np.loadtxt(\"datasets/ex2x.dat\")   # age：年龄\n",
    "height = np.loadtxt(\"datasets/ex2y.dat\")   # height：身高\n",
    "# 把前面加载的numpy数据集转换为Tensor（注意shape）\n",
    "x = torch.from_numpy(np.mat(age).T)   \n",
    "y = torch.from_numpy(np.mat(height).T)\n",
    "\n",
    "# 2. 模型构建-------------------\n",
    "# 随机权重系数\n",
    "w = torch.tensor([[0]], dtype=torch.float64)\n",
    "w.requires_grad = True\n",
    "# 随机偏置项\n",
    "b = torch.tensor([0], dtype=torch.float64)\n",
    "b.requires_grad = True\n",
    "\n",
    "# 3. 梯度下降迭代，求解最小值\n",
    "epoch = 10000  # 反复梯度下降\n",
    "learn_rate = 0.001  # 学习率（控制梯度下降速度）\n",
    "\n",
    "list_loss = []\n",
    "for e in range(epoch):\n",
    "    # forward的输出模型\n",
    "    y_ = x @ w + b\n",
    "    # 损失模型\n",
    "    loss = torch.mean((y- y_) ** 2)\n",
    "    list_loss.append(loss)   # 保存损失函数\n",
    "    # backward梯度模型\n",
    "    loss.backward()  # 不需要保留图，因为整个计算模型每轮循环都是重新构建的。\n",
    "    # w与b的梯度\n",
    "    w.data -= learn_rate * w.grad.data\n",
    "    b.data -= learn_rate * b.grad.data\n",
    "    with torch.autograd.no_grad():   #\n",
    "            w -= learn_rate * w.grad     # 直接修改就不允许做数据运算，否则会被跟踪计算历史\n",
    "            w.grad.zero_()\n",
    "            b -= learn_rate * b.grad     # 直接修改就不允许做数据运算，否则会被跟踪计算历史\n",
    "            b.grad.zero_()\n",
    "\n",
    "# 使用矩阵求解的结果（sklearn的模块计算的结果）\n",
    "# w： [0.06388117]\n",
    "# b： 0.7501625370012386\n",
    "\n",
    "# 4. 可视化\n",
    "x_p = torch.linspace(1, 9, 100, dtype=torch.float64)\n",
    "y_p = x_p.view(x_p.shape[0], 1) @ w + b\n",
    "\n",
    "plt.scatter(age, height, color=(0, 0, 1, 1), s=1**2)\n",
    "plt.plot(\n",
    "    x_p.detach().numpy(), y_p.detach().numpy(), color=(1, 0, 0, 1), \n",
    "    label=F\"w={w.detach().numpy()[0,0]:10.4f}, b={b.detach().numpy()[0]:10.4f}\")\n",
    "plt.legend()\n",
    "plt.show()"
   ]
  },
  {
   "cell_type": "markdown",
   "metadata": {},
   "source": [
    "# 附录"
   ]
  },
  {
   "cell_type": "markdown",
   "metadata": {},
   "source": [
    "## Tensor形状不一致导致的误差"
   ]
  },
  {
   "cell_type": "markdown",
   "metadata": {},
   "source": [
    "- 当在计算均方差，如果需要的两个张量形状不一致，计算的值会产生误差，因为某些时候，张量的差运算尽管要求形状一致，但实际形状不一致的时候，也会计算，但是计算规则被改变，从而导致计算结果的差异。\n",
    "- 下面是一个例子说明"
   ]
  },
  {
   "cell_type": "code",
   "execution_count": 118,
   "metadata": {},
   "outputs": [
    {
     "name": "stdout",
     "output_type": "stream",
     "text": [
      "tensor(0.)\n",
      "tensor(1.3333)\n"
     ]
    }
   ],
   "source": [
    "import torch\n",
    "\n",
    "v1 = torch.Tensor([\n",
    "    [1],[2],[3]\n",
    "])\n",
    "\n",
    "v2 = torch.Tensor([1,2,3])\n",
    "\n",
    "print(torch.mean((v1-v1)**2))    # 正确\n",
    "print(torch.mean((v1-v2)**2))   # 错误（形状不一致，导致的误差）"
   ]
  },
  {
   "cell_type": "code",
   "execution_count": 119,
   "metadata": {},
   "outputs": [
    {
     "name": "stdout",
     "output_type": "stream",
     "text": [
      "tensor([[ 0., -1., -2.],\n",
      "        [ 1.,  0., -1.],\n",
      "        [ 2.,  1.,  0.]])\n"
     ]
    }
   ],
   "source": [
    "import torch\n",
    "\n",
    "v1 = torch.Tensor([\n",
    "    [1],[2],[3]\n",
    "])\n",
    "\n",
    "v2 = torch.Tensor([1,2,3])\n",
    "\n",
    "print(v1-v2)   # 形状不一致，计算出来的结果是这样的，所以在torch中形状不一致的运算，一定要小心。"
   ]
  },
  {
   "cell_type": "markdown",
   "metadata": {},
   "source": [
    "----"
   ]
  }
 ],
 "metadata": {
  "kernelspec": {
   "display_name": "Python 3",
   "language": "python",
   "name": "python3"
  },
  "language_info": {
   "codemirror_mode": {
    "name": "ipython",
    "version": 3
   },
   "file_extension": ".py",
   "mimetype": "text/x-python",
   "name": "python",
   "nbconvert_exporter": "python",
   "pygments_lexer": "ipython3",
   "version": "3.6.6"
  },
  "toc": {
   "base_numbering": 1,
   "nav_menu": {},
   "number_sections": true,
   "sideBar": true,
   "skip_h1_title": false,
   "title_cell": "Table of Contents",
   "title_sidebar": "Contents",
   "toc_cell": false,
   "toc_position": {},
   "toc_section_display": true,
   "toc_window_display": true
  }
 },
 "nbformat": 4,
 "nbformat_minor": 2
}
