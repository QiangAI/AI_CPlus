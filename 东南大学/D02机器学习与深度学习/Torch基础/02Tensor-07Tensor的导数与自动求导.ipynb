{
 "cells": [
  {
   "cell_type": "markdown",
   "metadata": {},
   "source": [
    "# 自动求导的相关设置"
   ]
  },
  {
   "cell_type": "markdown",
   "metadata": {},
   "source": [
    "- Tensor的属性：\n",
    "    - requires_grad=True\n",
    "        - 是否用来求导\n",
    "    - is_leaf：\n",
    "        - 叶子节点必须是计算的结果；\n",
    "            - 用户创建的Tensor的is_leaf=True（尽管requires_grad=True，也is_leaf=True）；\n",
    "            - requires_grad=False的Tensor的is_leaf=True；\n",
    "    - grad_fn：\n",
    "        - 用来指定求导函数；\n",
    "    - grad\n",
    "        - 用来返回导数；\n",
    "    - dtype\n",
    "        - 只有torch.float的张量才能求导；"
   ]
  },
  {
   "cell_type": "markdown",
   "metadata": {},
   "source": [
    "1. 求导的例子"
   ]
  },
  {
   "cell_type": "code",
   "execution_count": 1,
   "metadata": {},
   "outputs": [
    {
     "name": "stdout",
     "output_type": "stream",
     "text": [
      "tensor([10.])\n"
     ]
    }
   ],
   "source": [
    "import torch\n",
    "\n",
    "\n",
    "# x自变量\n",
    "x = torch.Tensor([5])\n",
    "x.requires_grad=True\n",
    "\n",
    "# y因变量\n",
    "y = x ** 2\n",
    "\n",
    "# 求导\n",
    "y.backward()\n",
    "\n",
    "# 导数的结果\n",
    "print(x.grad)\n"
   ]
  },
  {
   "cell_type": "markdown",
   "metadata": {},
   "source": [
    "2. 求导的可视化(导数函数的曲线)"
   ]
  },
  {
   "cell_type": "code",
   "execution_count": 2,
   "metadata": {},
   "outputs": [
    {
     "name": "stdout",
     "output_type": "stream",
     "text": [
      "\n"
     ]
    },
    {
     "data": {
      "image/png": "[encoded data removed]",
      "text/plain": [
       "<Figure size 432x288 with 1 Axes>"
      ]
     },
     "metadata": {
      "needs_background": "light"
     },
     "output_type": "display_data"
    }
   ],
   "source": [
    "%matplotlib inline\n",
    "import matplotlib.pyplot as plt\n",
    "import torch\n",
    "\n",
    "\n",
    "# x自变量\n",
    "x = torch.linspace(0, 10, 100)\n",
    "x.requires_grad=True\n",
    "\n",
    "# y因变量\n",
    "y = (x - 5) ** 2 + 3\n",
    "z = y.sum()\n",
    "# 求导\n",
    "z.backward()\n",
    "\n",
    "print()\n",
    "# 可视化\n",
    "plt.plot(x.detach(), y.detach(), color=(1, 0, 0, 1), label='$y=(x-5)^2 + 3$')\n",
    "plt.plot(x.detach(), x.grad.detach(), color=(1, 0, 1, 1), label='$y=2(x-5)$')\n",
    "plt.legend()\n",
    "plt.show()\n",
    "\n",
    "# print(x.grad)\n",
    "# print(x)"
   ]
  },
  {
   "cell_type": "markdown",
   "metadata": {},
   "source": [
    "3. 求导相关的属性值"
   ]
  },
  {
   "cell_type": "code",
   "execution_count": 3,
   "metadata": {},
   "outputs": [
    {
     "name": "stdout",
     "output_type": "stream",
     "text": [
      "-------------求导前x\n",
      "leaf: True\n",
      "grad_fn: None\n",
      "grad: None\n",
      "-------------求导前y\n",
      "requires_grad: True\n",
      "leaf: False\n",
      "grad_fn: <PowBackward0 object at 0x11ee90cf8>\n",
      "grad: None\n",
      "-------------求导后x\n",
      "leaf: True\n",
      "grad_fn: None\n",
      "grad: tensor([10.])\n",
      "-------------求导后y\n",
      "requires_grad: True\n",
      "leaf: False\n",
      "grad_fn: <PowBackward0 object at 0x11ee90828>\n",
      "grad: None\n"
     ]
    }
   ],
   "source": [
    "import torch\n",
    "\n",
    "\n",
    "# x自变量\n",
    "x = torch.Tensor([5])\n",
    "x.requires_grad=True\n",
    "\n",
    "# 求导前的属性\n",
    "print(\"-------------求导前x\")\n",
    "print(\"leaf:\", x.is_leaf)\n",
    "print(\"grad_fn:\", x.grad_fn)\n",
    "print(\"grad:\", x.grad)\n",
    "# y因变量\n",
    "y = x ** 2\n",
    "print(\"-------------求导前y\")\n",
    "print(\"requires_grad:\", y.requires_grad)\n",
    "print(\"leaf:\", y.is_leaf)\n",
    "print(\"grad_fn:\", y.grad_fn)\n",
    "print(\"grad:\", y.grad)\n",
    "# 求导\n",
    "y.backward()    # 只对标量运算\n",
    "\n",
    "print(\"-------------求导后x\")\n",
    "# 求导后的属性\n",
    "print(\"leaf:\", x.is_leaf)\n",
    "print(\"grad_fn:\", x.grad_fn)\n",
    "print(\"grad:\", x.grad)\n",
    "print(\"-------------求导后y\")\n",
    "print(\"requires_grad:\", y.requires_grad)\n",
    "print(\"leaf:\", y.is_leaf)\n",
    "print(\"grad_fn:\", y.grad_fn)\n",
    "print(\"grad:\", y.grad)"
   ]
  },
  {
   "cell_type": "markdown",
   "metadata": {},
   "source": [
    "# Tensor的backward函数"
   ]
  },
  {
   "cell_type": "markdown",
   "metadata": {},
   "source": [
    "## backward函数定义"
   ]
  },
  {
   "cell_type": "markdown",
   "metadata": {},
   "source": [
    "- 函数定义：\n",
    "```python\n",
    "    backward(self, gradient=None, retain_graph=None, create_graph=False)\n",
    "```\n",
    "\n",
    "- 参数说明：\n",
    "    - gradient=None：需要求导的微分张量；\n",
    "    - retain_graph=None：保留图；否则每次计算完毕，床创建的图都会被释放。\n",
    "    - create_graph=False：创建导数图，主要用来求高阶导数；"
   ]
  },
  {
   "cell_type": "markdown",
   "metadata": {},
   "source": [
    "## 求导的通用模式\n",
    "\n",
    "- 函数表达式：\n",
    "    - $z =  2x + 3y$\n",
    "- 手工求导：\n",
    "    - $\\dfrac{\\partial{z}}{\\partial{x}} = 2$"
   ]
  },
  {
   "cell_type": "code",
   "execution_count": 4,
   "metadata": {},
   "outputs": [
    {
     "name": "stdout",
     "output_type": "stream",
     "text": [
      "tensor([2., 4., 6.]) None None\n"
     ]
    }
   ],
   "source": [
    "import torch\n",
    "\n",
    "x = torch.Tensor([1, 2, 3])\n",
    "x.requires_grad=True         # 这个属性必须在 z = 2*x + 3*y 表达式构建图的时候设置\n",
    "\n",
    "y = torch.Tensor([4, 5, 6])\n",
    "\n",
    "z = 2*x + 3*y\n",
    "\n",
    "z.backward(x)     # 对x求导，得到的结果，自然是 2，但是x的grad是 2 * x \n",
    "\n",
    "print(x.grad, y.grad, z.grad)    # 没有对y求导，所以对y没有要求\n"
   ]
  },
  {
   "cell_type": "markdown",
   "metadata": {},
   "source": [
    "## 理解导数\n",
    " \n",
    "- 函数表达式：\n",
    "    - $z =  x^2$\n",
    "- 手工求导：\n",
    "    - $\\dfrac{\\partial{z}}{\\partial{x}} = 2x$"
   ]
  },
  {
   "cell_type": "markdown",
   "metadata": {},
   "source": [
    "-  $\\color{red}{上面过程怎么计算的呢？}$"
   ]
  },
  {
   "cell_type": "markdown",
   "metadata": {},
   "source": [
    "### 结果张量为标量的情况\n",
    "- 如果z是标量，则直接计算导数：$\\dfrac{\\partial{z}}{\\partial{x}} = 2x$"
   ]
  },
  {
   "cell_type": "code",
   "execution_count": 5,
   "metadata": {},
   "outputs": [
    {
     "name": "stdout",
     "output_type": "stream",
     "text": [
      "tensor([4.]) None\n"
     ]
    }
   ],
   "source": [
    "import torch\n",
    "\n",
    "x = torch.Tensor([2])\n",
    "x.requires_grad=True         \n",
    "z = x**2                # 求导函数\n",
    "z.backward()     # 对x求导，2 * x    ，导数为2x=4\n",
    "print(x.grad, z.grad)    "
   ]
  },
  {
   "cell_type": "markdown",
   "metadata": {},
   "source": [
    "### 结果张量为向量的情况\n",
    "\n",
    "- 如果z是向量，则需要先计算z与x的内积，得到标量结果，然后再求导。\n",
    "    - $z =  x^2$\n",
    "    - $l = z \\cdot x$\n",
    "    - $\\dfrac{\\partial{l}}{\\partial{x}} = \\dfrac{\\partial{l}}{\\partial{z}} \\dfrac{\\partial{z}}{\\partial{x}} = x \\dfrac{\\partial{z}}{\\partial{x}} = x 2x$"
   ]
  },
  {
   "cell_type": "code",
   "execution_count": 6,
   "metadata": {},
   "outputs": [
    {
     "name": "stdout",
     "output_type": "stream",
     "text": [
      "tensor([8.]) None\n",
      "tensor([4.], grad_fn=<DivBackward0>)\n"
     ]
    }
   ],
   "source": [
    "import torch\n",
    "\n",
    "x = torch.Tensor([2])\n",
    "x.requires_grad=True         \n",
    "y = x**2               # 求导函数\n",
    "\n",
    "y.backward(x)     # 2 x x = 8\n",
    "\n",
    "print(x.grad, y.grad)    \n",
    "print(x.grad/x)    # 正宗结果    "
   ]
  },
  {
   "cell_type": "markdown",
   "metadata": {},
   "source": [
    "### 取求导向量为1向量\n",
    "\n",
    "- 根据上面的推导，在自动求导中包含几个默认动作：\n",
    "    - 1. 使用z.backward()，没有指定微分量的情况下，实际上是对图的所有标记为requires_grad=True的叶子张量实现求导；\n",
    "        - 当叶子节点都是requires_grad=False，会抛出异常。\n",
    "            - `RuntimeError: element 0 of tensors does not require grad and does not have a grad_fn`\n",
    "             \n",
    "    - 2. 使用z.backward(x)，直接指定需要的求导；\n",
    "        - 其实这种指定，是没有意义的，因为指定x，也是对所有requires_grad=True的叶子节点求导。"
   ]
  },
  {
   "cell_type": "markdown",
   "metadata": {},
   "source": [
    "- 下面例子体会下，多个叶子节点的自动求导；\n",
    "    - 就算只对x求导，实际对y也会求导；"
   ]
  },
  {
   "cell_type": "code",
   "execution_count": 7,
   "metadata": {},
   "outputs": [
    {
     "name": "stdout",
     "output_type": "stream",
     "text": [
      "tensor([3., 6., 9.]) tensor([2., 4., 6.])\n",
      "tensor([3., 3., 3.], grad_fn=<DivBackward0>) tensor([2., 2., 2.], grad_fn=<DivBackward0>)\n"
     ]
    }
   ],
   "source": [
    "import torch\n",
    "\n",
    "x = torch.Tensor([1, 2, 3])\n",
    "y = torch.Tensor([4, 5, 6])\n",
    "\n",
    "x.requires_grad=True  \n",
    "y.requires_grad=True  \n",
    "\n",
    "z = 3*x + 2*y                # 求导函数\n",
    "\n",
    "z.backward(x)      # 对x求导\n",
    "\n",
    "print(x.grad,  y.grad)  # [3., 6., 9.] ：导数是3  与 [2., 4., 6.]：导数是2\n",
    "\n",
    "print(x.grad/x,  y.grad/x)  # [3., 6., 9.] ：导数是3  与 [2., 4., 6.]：导数是2"
   ]
  },
  {
   "cell_type": "markdown",
   "metadata": {},
   "source": [
    "- 从上面例子看出：backward的参数张量，仅仅是把求导函数从向量转换成标量求导， 本身并没有指定对哪个变量（张量求导的）的含义。\n",
    "    - 由于backward的参数仅仅是向量到变量的转化工作，所以我们去这个参数为1即可。下面是推理理论。"
   ]
  },
  {
   "cell_type": "markdown",
   "metadata": {},
   "source": [
    "- $z =  x^2$\n",
    "- $l = z \\cdot 1$\n",
    "- $\\dfrac{\\partial{l}}{\\partial{x}} = \\dfrac{\\partial{l}}{\\partial{z}} \\dfrac{\\partial{z}}{\\partial{x}}  =  \\dfrac{\\partial{z \\cdot 1 }}{\\partial{z}} \\dfrac{\\partial{z}}{\\partial{x}}  = \\dfrac{\\partial{z}}{\\partial{x}} = 2x$"
   ]
  },
  {
   "cell_type": "markdown",
   "metadata": {},
   "source": [
    "- 取1张量作为梯度求导"
   ]
  },
  {
   "cell_type": "code",
   "execution_count": 8,
   "metadata": {},
   "outputs": [
    {
     "name": "stdout",
     "output_type": "stream",
     "text": [
      "tensor([2., 4., 6.]) None\n"
     ]
    }
   ],
   "source": [
    "import torch\n",
    "\n",
    "x = torch.Tensor([1, 2, 3])\n",
    "x.requires_grad=True         \n",
    "z = x**2                # 求导函数\n",
    "z.backward(torch.ones_like(x)) \n",
    "print(x.grad, z.grad)    "
   ]
  },
  {
   "cell_type": "markdown",
   "metadata": {},
   "source": [
    "- 下面的操作与取1张量的原理完全一致\n",
    "    - 只是用户自己做了这个内积运算而已。"
   ]
  },
  {
   "cell_type": "code",
   "execution_count": 9,
   "metadata": {},
   "outputs": [
    {
     "name": "stdout",
     "output_type": "stream",
     "text": [
      "tensor([2., 4., 6.]) None\n"
     ]
    }
   ],
   "source": [
    "import torch\n",
    "\n",
    "x = torch.Tensor([1, 2, 3])\n",
    "x.requires_grad=True         \n",
    "z = (x**2).sum()                # 直接求和\n",
    "\n",
    "z.backward() \n",
    "print(x.grad, z.grad)    "
   ]
  },
  {
   "attachments": {
    "image.png": {
     "image/png": "[encoded data removed]"
    }
   },
   "cell_type": "markdown",
   "metadata": {},
   "source": [
    "## 复杂的求导运算例子\n",
    "- 下面是计算的图示意图：\n",
    "    - ![image.png](attachment:image.png)"
   ]
  },
  {
   "cell_type": "code",
   "execution_count": 14,
   "metadata": {},
   "outputs": [
    {
     "name": "stdout",
     "output_type": "stream",
     "text": [
      "tensor([  8.,  96., 432.]) tensor([  8.,  96., 432.]) tensor([  48.,  432., 1728.])\n",
      "None None None None\n",
      "<AddBackward0 object at 0x11efe69e8> <PowBackward0 object at 0x11efe6940> <PowBackward0 object at 0x11efe6a90> <MulBackward0 object at 0x11efe6ac8>\n",
      "True True True True\n"
     ]
    }
   ],
   "source": [
    "import torch\n",
    "\n",
    "#  叶子节点\n",
    "\n",
    "x = torch.Tensor([1, 2, 3]) \n",
    "y = torch.Tensor([3, 4, 5]) \n",
    "z = torch.Tensor([1, 2, 3])\n",
    "\n",
    "x.requires_grad=True\n",
    "y.requires_grad=True\n",
    "z.requires_grad=True\n",
    "\n",
    "# 中间节点\n",
    "xy = x + y\n",
    "xy2 = xy ** 2\n",
    "z3 = z ** 3\n",
    "xy2z3=xy2 * z3\n",
    "\n",
    "# 求导数\n",
    "xy2z3.backward(torch.Tensor([1.0, 1.0, 1.0]))\n",
    "print(x.grad, y.grad, z.grad)\n",
    "print(xy.grad, xy2.grad, z3.grad, xy2z3.grad)      # 没有梯度，因为不是叶子节点\n",
    "print(xy.grad_fn, xy2.grad_fn, z3.grad_fn, xy2z3.grad_fn)\n",
    "print(xy.requires_grad, xy2.requires_grad, z3.requires_grad, xy2z3.requires_grad)"
   ]
  },
  {
   "cell_type": "markdown",
   "metadata": {},
   "source": [
    "## 中间导数\n",
    "\n",
    "- 使用上面模式编程，可以发现其中只计算出输入变量的导数，中间变量的导数是无法获取的，如果想获取中间变量的导数，需要注册一个回调钩子函数，通过这个函数返回。"
   ]
  },
  {
   "cell_type": "markdown",
   "metadata": {},
   "source": [
    "- 获取中间变量导数的例子"
   ]
  },
  {
   "cell_type": "code",
   "execution_count": 40,
   "metadata": {},
   "outputs": [
    {
     "name": "stdout",
     "output_type": "stream",
     "text": [
      "xy的导数：tensor([1., 2., 3.])\n",
      "tensor([1., 2., 3.]) tensor([1., 2., 3.]) tensor([4., 6., 8.])\n",
      "None tensor([1., 2., 3.]) tensor([4., 6., 8.])\n"
     ]
    }
   ],
   "source": [
    "import torch\n",
    "\n",
    "#  叶子节点\n",
    "x = torch.Tensor([1, 2, 3]) \n",
    "y = torch.Tensor([3, 4, 5]) \n",
    "z = torch.Tensor([1, 2, 3])\n",
    "\n",
    "x.requires_grad=True\n",
    "y.requires_grad=True\n",
    "z.requires_grad=True\n",
    "\n",
    "# 中间节点\n",
    "xy = x + y\n",
    "# xyz = xy * z\n",
    "# xyz.backward(torch.Tensor([1, 1, 1]))\n",
    "\n",
    "xyz = torch.dot(xy, z)\n",
    "# ====================\n",
    "def get_xy_grad(grad):\n",
    "    print(F\"xy的导数：{ grad }\")   # 可以保存到全局变量使用。\n",
    "\n",
    "xy.register_hook(get_xy_grad)\n",
    "\n",
    "# ====================\n",
    "\n",
    "xyz.backward()\n",
    "print(x.grad, y.grad, z.grad)\n",
    "print(xy.grad, y.grad, z.grad)"
   ]
  },
  {
   "cell_type": "markdown",
   "metadata": {},
   "source": [
    "## 高阶导数\n",
    "\n",
    "1. 提供create_graph参数用来保留导数的图，用来实现高级导数的计算。\n",
    "2. 高阶导数因为不是叶子节点，需要通过回调钩子获取"
   ]
  },
  {
   "cell_type": "code",
   "execution_count": 54,
   "metadata": {},
   "outputs": [
    {
     "name": "stdout",
     "output_type": "stream",
     "text": [
      "tensor([6.], grad_fn=<CloneBackward>)\n",
      "x.grad的高阶导数：tensor([30.], grad_fn=<MulBackward0>)\n"
     ]
    }
   ],
   "source": [
    "import torch\n",
    "\n",
    "x = torch.Tensor([1])\n",
    "x.requires_grad=True         \n",
    "z = x**6               # 求导函数\n",
    "z.backward(create_graph=True)     # retain_graph保留的是本身的运算图，create_graph是保留微分图\n",
    "print(x.grad)    # 导数3\n",
    "# ====================\n",
    "def get_xy_grad(grad):\n",
    "    print(F\"x.grad的高阶导数：{ grad }\")   # 可以保存到全局变量使用。\n",
    "\n",
    "x.register_hook(get_xy_grad)\n",
    "# ====================\n",
    "x.grad.backward(create_graph=True) \n",
    "\n"
   ]
  },
  {
   "cell_type": "markdown",
   "metadata": {},
   "source": [
    "# Tensor的自动求导"
   ]
  },
  {
   "cell_type": "markdown",
   "metadata": {},
   "source": [
    "- 有了上面的基础，下面看torch.autograd中的自动求导，就基本上非常简单。\n",
    "- Torch提供了torch.autograd模块来实现自动求导，该模块暴露的调用如下：\n",
    "    - `['Variable', 'Function', 'backward', 'grad_mode']`"
   ]
  },
  {
   "cell_type": "markdown",
   "metadata": {},
   "source": [
    "## backward的使用"
   ]
  },
  {
   "cell_type": "markdown",
   "metadata": {},
   "source": [
    "- autograd提供的backward是Tensor的backward的静态函数版本，使用谈不上便捷，但多了一个选择；\n",
    "```python\n",
    "    torch.autograd.backward(\n",
    "        tensors, \n",
    "        grad_tensors=None, \n",
    "        retain_graph=None, \n",
    "        create_graph=False, \n",
    "        grad_variables=None)\n",
    "```\n",
    "\n",
    "- 参数说明：\n",
    "    - tensors：被求导的向量（必须具有grad_fn）；\n",
    "    - grad_tensors=None：梯度向量；\n",
    "    - retain_graph=None：保留计算图；\n",
    "    - create_graph=False：创建个高阶微分图（可以自己手工得到高阶导数，也可以使用下面的grad封装函数）；\n",
    "    - grad_variables=None：兼容原来Variable版本的参数，在新的版本中不再使用。"
   ]
  },
  {
   "cell_type": "markdown",
   "metadata": {},
   "source": [
    "- torch.autograd.backward函数的使用例子\n",
    "    -  参数grad_variables在我的这个版本中，已经不能使用。"
   ]
  },
  {
   "cell_type": "code",
   "execution_count": 56,
   "metadata": {},
   "outputs": [
    {
     "name": "stdout",
     "output_type": "stream",
     "text": [
      "xy的导数：tensor([1., 2., 3.])\n",
      "tensor([1., 2., 3.]) tensor([1., 2., 3.]) tensor([4., 6., 8.])\n",
      "None tensor([1., 2., 3.]) tensor([4., 6., 8.])\n"
     ]
    }
   ],
   "source": [
    "import torch\n",
    "\n",
    "#  叶子节点\n",
    "x = torch.Tensor([1, 2, 3]) \n",
    "y = torch.Tensor([3, 4, 5]) \n",
    "z = torch.Tensor([1, 2, 3])\n",
    "\n",
    "x.requires_grad=True\n",
    "y.requires_grad=True\n",
    "z.requires_grad=True\n",
    "\n",
    "# 中间节点\n",
    "xy = x + y\n",
    "# xyz = xy * z\n",
    "# xyz.backward(torch.Tensor([1, 1, 1]))\n",
    "\n",
    "xyz = torch.dot(xy, z)\n",
    "# ====================\n",
    "def get_xy_grad(grad):\n",
    "    print(F\"xy的导数：{ grad }\")   # 可以保存到全局变量使用。\n",
    "\n",
    "xy.register_hook(get_xy_grad)\n",
    "\n",
    "# ====================\n",
    "\n",
    "torch.autograd.backward(xyz)\n",
    "print(x.grad, y.grad, z.grad)\n",
    "print(xy.grad, y.grad, z.grad)"
   ]
  },
  {
   "cell_type": "markdown",
   "metadata": {},
   "source": [
    "## grad的使用\n",
    "\n",
    "- 用来计算输出关于输入的梯度的和，不是返回所有的梯度，而是对某个输入变量的求导：$\\dfrac{\\partial{z}}{\\partial{x}}$\n",
    "- 这个函数的功能应该与hook功能类似。"
   ]
  },
  {
   "cell_type": "markdown",
   "metadata": {},
   "source": [
    "- grad函数的定义：\n",
    "\n",
    "```python\n",
    "    torch.autograd.grad(\n",
    "        outputs, \n",
    "        inputs, \n",
    "        grad_outputs=None, \n",
    "        retain_graph=None, \n",
    "        create_graph=False, \n",
    "        only_inputs=True, \n",
    "        allow_unused=False)\n",
    "```\n",
    "\n",
    "- 参数说明：\n",
    "    - outputs：输出张量列表，与backward函数中的tensors作用一样；\n",
    "    - inputs：输入张量列表，用来调用register_hook的张量；\n",
    "    - grad_outputs：梯度张量列表，与backward函数中的grad_tensors作用一样；\n",
    "    - retain_graph：逻辑值，用来指定运算完毕是否清除计算图；\n",
    "    - create_graph：逻辑值，用来创建梯度的计算图（梯度的梯度就是高阶导数）\n",
    "    - only_inputs：逻辑值，用来指定返回的计算结果，不仅仅是inputs指定的张量，而是计算所有叶子节点的导数。默认值True：这个参数已经不推荐使用，而且已经没有作用了，向计算叶子节点的导数没使用backward函数。\n",
    "    - allow_unused：逻辑值，用来检测是否每个输入都用来计算输出，False表示不需要，True表示如果有输入没有用于输出计算，则抛出错误。如果没有输入都是用，则True与False结果都一样。默认值False"
   ]
  },
  {
   "cell_type": "markdown",
   "metadata": {},
   "source": [
    "- grad的使用例子"
   ]
  },
  {
   "cell_type": "code",
   "execution_count": 65,
   "metadata": {},
   "outputs": [
    {
     "name": "stdout",
     "output_type": "stream",
     "text": [
      "None None None\n",
      "None None None\n",
      "(tensor([1., 2., 3.]),)\n",
      "(tensor([1., 2., 3.]),)\n",
      "(tensor([1., 2., 3.]),)\n",
      "(tensor([4., 6., 8.]),)\n"
     ]
    }
   ],
   "source": [
    "import torch\n",
    "\n",
    "#  叶子节点\n",
    "x = torch.Tensor([1, 2, 3]) \n",
    "y = torch.Tensor([3, 4, 5]) \n",
    "z = torch.Tensor([1, 2, 3])\n",
    "\n",
    "x.requires_grad=True\n",
    "y.requires_grad=True\n",
    "z.requires_grad=True\n",
    "\n",
    "# 中间节点\n",
    "xy = x + y\n",
    "xyz = torch.dot(xy, z)\n",
    "\n",
    "# ====================\n",
    "gd = torch.autograd.grad(xyz, x, retain_graph=True)\n",
    "\n",
    "print(x.grad, y.grad, z.grad)\n",
    "print(xy.grad, y.grad, z.grad)\n",
    "print(gd)\n",
    "print(torch.autograd.grad(xyz, xy,retain_graph=True))\n",
    "print(torch.autograd.grad(xyz, y,retain_graph=True))\n",
    "print(torch.autograd.grad(xyz, z,retain_graph=True, allow_unused=True))\n",
    "# ====================\n"
   ]
  },
  {
   "cell_type": "markdown",
   "metadata": {},
   "source": [
    "### grad的高阶求导\n",
    "\n",
    "- 使用create_graph创建导数的图，并对导数再求导，从而实现高阶求导。"
   ]
  },
  {
   "cell_type": "code",
   "execution_count": 89,
   "metadata": {},
   "outputs": [
    {
     "name": "stdout",
     "output_type": "stream",
     "text": [
      "一阶导数：(tensor([6.], grad_fn=<MulBackward0>),),\n",
      "二阶导数： (tensor([30.]),)\n"
     ]
    }
   ],
   "source": [
    "import torch\n",
    "\n",
    "x = torch.Tensor([1])\n",
    "x.requires_grad=True         \n",
    "z = x**6               # 求导函数\n",
    "\n",
    "gd_1 = torch.autograd.grad(z, x, create_graph=True)\n",
    "\n",
    "gd_2 = torch.autograd.grad(gd_1, x)\n",
    "print(F\"一阶导数：{gd_1},\\n二阶导数： {gd_2}\")\n"
   ]
  },
  {
   "cell_type": "markdown",
   "metadata": {},
   "source": [
    "# 求导的控制"
   ]
  },
  {
   "cell_type": "markdown",
   "metadata": {},
   "source": [
    "## set_grad_enabled类\n",
    "\n",
    "- set_grad_enabled函数可以开启与关闭导数计算\n",
    "    - 一个上下文管理对象\n",
    "\n",
    "- 函数声明如下：\n",
    "\n",
    "```python\n",
    "    torch.autograd.set_grad_enabled(mode)\n",
    "```\n",
    "\n",
    "- 参数：\n",
    "    -  mode：逻辑值，True开启，False关闭"
   ]
  },
  {
   "cell_type": "markdown",
   "metadata": {},
   "source": [
    "### 通常使用例子"
   ]
  },
  {
   "cell_type": "code",
   "execution_count": 71,
   "metadata": {},
   "outputs": [
    {
     "name": "stdout",
     "output_type": "stream",
     "text": [
      "False False True\n"
     ]
    }
   ],
   "source": [
    "import torch\n",
    "\n",
    "\n",
    "x = torch.Tensor([1, 2, 3]) \n",
    "y = torch.Tensor([3, 4, 5]) \n",
    "z = torch.Tensor([1, 2, 3])\n",
    "x.requires_grad=True\n",
    "y.requires_grad=True\n",
    "z.requires_grad=True\n",
    "\n",
    "torch.autograd.set_grad_enabled(False)   # 全局上下文\n",
    "xy = x + y\n",
    "xyz = torch.dot(xy, z)\n",
    "torch.autograd.set_grad_enabled(True)\n",
    "\n",
    "\n",
    "print(xy.requires_grad, xyz.requires_grad, z.requires_grad)"
   ]
  },
  {
   "cell_type": "markdown",
   "metadata": {},
   "source": [
    "### 上下文使用例子"
   ]
  },
  {
   "cell_type": "code",
   "execution_count": 72,
   "metadata": {},
   "outputs": [
    {
     "name": "stdout",
     "output_type": "stream",
     "text": [
      "False True True\n"
     ]
    }
   ],
   "source": [
    "import torch\n",
    "\n",
    "\n",
    "x = torch.Tensor([1, 2, 3]) \n",
    "y = torch.Tensor([3, 4, 5]) \n",
    "z = torch.Tensor([1, 2, 3])\n",
    "x.requires_grad=True\n",
    "y.requires_grad=True\n",
    "z.requires_grad=True\n",
    "\n",
    "with torch.autograd.set_grad_enabled(False)  as grad_ctx:   # 局部上下文\n",
    "    xy = x + y    # 块结束，作用范围自动结束\n",
    "\n",
    "xyz = torch.dot(xy, z)\n",
    "print(xy.requires_grad, xyz.requires_grad, z.requires_grad)"
   ]
  },
  {
   "cell_type": "markdown",
   "metadata": {},
   "source": [
    "## enable_grad类\n",
    "\n",
    "- 这个类是一个装饰器类，提供更加简捷的开启方式。\n",
    "    - 也是一个上下文管理器；\n",
    "    - 装饰器用于函数与类；\n",
    "\n",
    "```python\n",
    "    \n",
    "    torch.autograd.enable_grad()\n",
    "\n",
    "```"
   ]
  },
  {
   "cell_type": "markdown",
   "metadata": {},
   "source": [
    "### 装饰器使用例子"
   ]
  },
  {
   "cell_type": "code",
   "execution_count": 77,
   "metadata": {},
   "outputs": [
    {
     "name": "stdout",
     "output_type": "stream",
     "text": [
      "True True True\n"
     ]
    }
   ],
   "source": [
    "import torch\n",
    "\n",
    "\n",
    "x = torch.Tensor([1, 2, 3]) \n",
    "y = torch.Tensor([3, 4, 5]) \n",
    "z = torch.Tensor([1, 2, 3])\n",
    "x.requires_grad=True\n",
    "y.requires_grad=True\n",
    "z.requires_grad=True\n",
    "\n",
    "@ torch.autograd.enable_grad()\n",
    "def func_xy(x, y):\n",
    "    return x + y    # 块结束，作用范围自动结束\n",
    "\n",
    "xy = func_xy(x, y)\n",
    "\n",
    "xyz = torch.dot(xy, z)\n",
    "print(xy.requires_grad, xyz.requires_grad, z.requires_grad)"
   ]
  },
  {
   "cell_type": "markdown",
   "metadata": {},
   "source": [
    "### 上下文使用例子"
   ]
  },
  {
   "cell_type": "code",
   "execution_count": 78,
   "metadata": {},
   "outputs": [
    {
     "name": "stdout",
     "output_type": "stream",
     "text": [
      "True True True\n"
     ]
    }
   ],
   "source": [
    "import torch\n",
    "\n",
    "\n",
    "x = torch.Tensor([1, 2, 3]) \n",
    "y = torch.Tensor([3, 4, 5]) \n",
    "z = torch.Tensor([1, 2, 3])\n",
    "x.requires_grad=True\n",
    "y.requires_grad=True\n",
    "z.requires_grad=True\n",
    "\n",
    "with torch.autograd.enable_grad():\n",
    "    xy = x + y\n",
    "\n",
    "xyz = torch.dot(xy, z)\n",
    "print(xy.requires_grad, xyz.requires_grad, z.requires_grad)"
   ]
  },
  {
   "cell_type": "markdown",
   "metadata": {},
   "source": [
    "## no_grad类\n",
    "\n",
    "- 与enable_grad类一样的使用方式，作用却相反。\n",
    "\n",
    "- 注意：\n",
    "    - no_grad与enable_grad是函数装饰器，不是类装饰器；"
   ]
  },
  {
   "cell_type": "markdown",
   "metadata": {},
   "source": [
    "### 装饰器使用方式\n",
    "\n",
    "- 对整个函数作用，适合函数模式，如果函数中有特殊的情况，可以嵌套使用。"
   ]
  },
  {
   "cell_type": "code",
   "execution_count": 80,
   "metadata": {},
   "outputs": [
    {
     "name": "stdout",
     "output_type": "stream",
     "text": [
      "False True True\n"
     ]
    }
   ],
   "source": [
    "import torch\n",
    "\n",
    "\n",
    "x = torch.Tensor([1, 2, 3]) \n",
    "y = torch.Tensor([3, 4, 5]) \n",
    "z = torch.Tensor([1, 2, 3])\n",
    "x.requires_grad=True\n",
    "y.requires_grad=True\n",
    "z.requires_grad=True\n",
    "\n",
    "@ torch.autograd.no_grad()\n",
    "def func_xy(x, y):\n",
    "    return x + y    # 块结束，作用范围自动结束\n",
    "\n",
    "xy = func_xy(x, y)\n",
    "\n",
    "xyz = torch.dot(xy, z)\n",
    "print(xy.requires_grad, xyz.requires_grad, z.requires_grad)"
   ]
  },
  {
   "cell_type": "markdown",
   "metadata": {},
   "source": [
    "### 上下文使用方式\n",
    "\n",
    "- 适合于在非函数情况下使用"
   ]
  },
  {
   "cell_type": "code",
   "execution_count": 82,
   "metadata": {},
   "outputs": [
    {
     "name": "stdout",
     "output_type": "stream",
     "text": [
      "False True True\n"
     ]
    }
   ],
   "source": [
    "import torch\n",
    "\n",
    "\n",
    "x = torch.Tensor([1, 2, 3]) \n",
    "y = torch.Tensor([3, 4, 5]) \n",
    "z = torch.Tensor([1, 2, 3])\n",
    "x.requires_grad=True\n",
    "y.requires_grad=True\n",
    "z.requires_grad=True\n",
    "\n",
    "with torch.autograd.no_grad():\n",
    "    xy = x + y\n",
    "\n",
    "xyz = torch.dot(xy, z)\n",
    "print(xy.requires_grad, xyz.requires_grad, z.requires_grad)"
   ]
  },
  {
   "cell_type": "markdown",
   "metadata": {},
   "source": [
    "### no_grad与enable_grad混合使用\n",
    "\n",
    "- 这种混合使用，可以满足开发的任何情况的需求；"
   ]
  },
  {
   "cell_type": "code",
   "execution_count": 85,
   "metadata": {},
   "outputs": [
    {
     "name": "stdout",
     "output_type": "stream",
     "text": [
      "False True False\n"
     ]
    }
   ],
   "source": [
    "import torch\n",
    "\n",
    "\n",
    "x = torch.Tensor([1, 2, 3]) \n",
    "y = torch.Tensor([3, 4, 5]) \n",
    "z = torch.Tensor([1, 2, 3])\n",
    "x.requires_grad=True\n",
    "y.requires_grad=True\n",
    "z.requires_grad=True\n",
    "\n",
    "with torch.autograd.no_grad():\n",
    "    xy = x + y\n",
    "    with torch.autograd.enable_grad():\n",
    "        z3 = z **3\n",
    "        xy2 = xy ** 2    # 因为xy的requires_grad=False，整个运算也是False\n",
    "        \n",
    "print(xy.requires_grad, z3.requires_grad, xy2.requires_grad)"
   ]
  },
  {
   "cell_type": "markdown",
   "metadata": {},
   "source": [
    "----"
   ]
  }
 ],
 "metadata": {
  "kernelspec": {
   "display_name": "Python 3",
   "language": "python",
   "name": "python3"
  },
  "language_info": {
   "codemirror_mode": {
    "name": "ipython",
    "version": 3
   },
   "file_extension": ".py",
   "mimetype": "text/x-python",
   "name": "python",
   "nbconvert_exporter": "python",
   "pygments_lexer": "ipython3",
   "version": "3.6.6"
  },
  "toc": {
   "base_numbering": 1,
   "nav_menu": {},
   "number_sections": true,
   "sideBar": true,
   "skip_h1_title": false,
   "title_cell": "Table of Contents",
   "title_sidebar": "Contents",
   "toc_cell": false,
   "toc_position": {
    "height": "calc(100% - 180px)",
    "left": "10px",
    "top": "150px",
    "width": "256px"
   },
   "toc_section_display": true,
   "toc_window_display": true
  }
 },
 "nbformat": 4,
 "nbformat_minor": 2
}
