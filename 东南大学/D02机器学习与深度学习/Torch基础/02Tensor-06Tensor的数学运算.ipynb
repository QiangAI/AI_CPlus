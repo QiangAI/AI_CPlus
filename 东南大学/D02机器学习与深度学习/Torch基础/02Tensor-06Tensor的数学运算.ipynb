{
 "cells": [
  {
   "cell_type": "markdown",
   "metadata": {},
   "source": [
    "# 数学基本运算与运算符"
   ]
  },
  {
   "cell_type": "markdown",
   "metadata": {},
   "source": [
    "- 数学运算的常规分类是：\n",
    "    1. 基本运算：\n",
    "        - 算术运算\n",
    "        - 比较运算\n",
    "        - 逻辑运算\n",
    "        - 位运算\n",
    "        - 符合运算\n",
    "        - 其他运算\n",
    "    2. 指数与对数运算\n",
    "    3. 三角函数运算\n",
    "    4. 双曲函数运算\n",
    "    5. 角度与弧度运算"
   ]
  },
  {
   "cell_type": "markdown",
   "metadata": {},
   "source": [
    "- 在一般应用中，我们更加关注的是向量运算的定义：\n",
    "    - 按向量的分量运算；\n",
    "    - 非按向量的分量运算；"
   ]
  },
  {
   "cell_type": "markdown",
   "metadata": {},
   "source": [
    "## 运算符与基本运算"
   ]
  },
  {
   "cell_type": "markdown",
   "metadata": {},
   "source": [
    "### 四则运算"
   ]
  },
  {
   "cell_type": "markdown",
   "metadata": {},
   "source": [
    "#### 加减运算\n",
    "\n",
    "1. `__add__(self, value, /)`\n",
    "2. `__sub__(self, value, /)`\n",
    "3. `__neg__(self, /)`\n"
   ]
  },
  {
   "cell_type": "code",
   "execution_count": null,
   "metadata": {},
   "outputs": [],
   "source": [
    "import torch\n",
    "\n",
    "t1 = torch.Tensor(\n",
    "    [\n",
    "        [1, 2, 3],\n",
    "        [3, 4, 5]\n",
    "    ]\n",
    ")\n",
    "\n",
    "t2 = torch.Tensor(\n",
    "    [\n",
    "        [9, 8, 7],\n",
    "        [6, 5, 4]\n",
    "    ]\n",
    ")\n",
    "\n",
    "print(t1 + t2)\n",
    "print(t1 - t2)\n",
    "print(- t2)\n",
    "# print(+t2)    # 这个运算符是没有第"
   ]
  },
  {
   "cell_type": "markdown",
   "metadata": {},
   "source": [
    "#### 乘除运算\n",
    "\n",
    "1. `__matmul__(self, value, /)`\n",
    "    - 矩阵乘法：内积：点击`@`\n",
    "2. `__mul__(self, value, /)`\n",
    "    - 按位乘法：`*`\n",
    "3. `__truediv__(self, value, /)`\n",
    "    - 浮点除\n",
    "4. `__floordiv__(self, other)`\n",
    "    - 整除\n",
    "5. `__mod__(self, value, /)`\n",
    "    - 求余\n",
    "---\n",
    "6. `__div__(self, value, /)`\n",
    "    - 早期的除法python2.0支持的重载运算符\n",
    "---\n",
    "- 注意：\n",
    "    - 上面的运算除内积外，在向量中还有一种运算是数乘。"
   ]
  },
  {
   "cell_type": "code",
   "execution_count": null,
   "metadata": {},
   "outputs": [],
   "source": [
    "import torch\n",
    "\n",
    "t1 = torch.Tensor(\n",
    "    [\n",
    "        [1, 2, 3],\n",
    "        [3, 4, 5]\n",
    "    ]\n",
    ")\n",
    "\n",
    "t2 = torch.Tensor(\n",
    "    [\n",
    "        [9, 8, 7],\n",
    "        [6, 5, 4]\n",
    "    ]\n",
    ")\n",
    "\n",
    "print(t1 * t2)\n",
    "print(t1 / t2)\n",
    "print(t1 % t2)\n",
    "print(t1 // t2)   # 整除\n",
    "\n",
    "print(t1 @ t2.t())    # 内积"
   ]
  },
  {
   "cell_type": "code",
   "execution_count": null,
   "metadata": {},
   "outputs": [],
   "source": [
    "# 数乘的例子\n",
    "import torch\n",
    "\n",
    "t1 = torch.Tensor(\n",
    "    [\n",
    "        [1, 2, 3],\n",
    "        [3, 4, 5]\n",
    "    ]\n",
    ")\n",
    "\n",
    "\n",
    "print(t1 * 2)\n",
    "print(t1 / 2)\n",
    "print(t1 % 2)\n",
    "print(t1 // 3)   # 整除\n",
    "\n",
    "# 内积内有数乘"
   ]
  },
  {
   "cell_type": "markdown",
   "metadata": {},
   "source": [
    "- 算术运算存在左乘与右乘\n",
    "    - 上面运算左右都行，因为：\n",
    "        1. `__radd__(self, value, /)`\n",
    "        2. `__rsub__(self, value, /)`\n",
    "        3. `__rmul__(self, value, /)`\n",
    "        4. `__rtruediv__(self, value, /)`\n",
    "        5. `__rfloordiv__(self, value, /)`\n",
    "        6. `__rmod__(self, value, /)`\n",
    "        7. `__rdivmod__(self, value, /)`   : 这个运算符是：divmod返回商与余数\n"
   ]
  },
  {
   "cell_type": "markdown",
   "metadata": {},
   "source": [
    "#### 幂运算\n",
    "\n",
    "- `__rpow__(self, other)`\n",
    "- `__pow__(self, other)`"
   ]
  },
  {
   "cell_type": "code",
   "execution_count": null,
   "metadata": {},
   "outputs": [],
   "source": [
    "import torch\n",
    "\n",
    "t1 = torch.Tensor(\n",
    "    [\n",
    "        [1, 2, 3],\n",
    "        [3, 4, 5]\n",
    "    ]\n",
    ")\n",
    "t2 = torch.Tensor(\n",
    "    [\n",
    "        [9, 8, 7],\n",
    "        [6, 5, 4]\n",
    "    ]\n",
    ")\n",
    "print(t2 ** t1)  # 按位叉乘\n",
    "print(t1 ** 2)   # 数乘"
   ]
  },
  {
   "cell_type": "markdown",
   "metadata": {},
   "source": [
    "#### 绝对值运算\n",
    "\n",
    "- `__abs__(self, /)`"
   ]
  },
  {
   "cell_type": "code",
   "execution_count": null,
   "metadata": {},
   "outputs": [],
   "source": [
    "import torch\n",
    "\n",
    "t1 = torch.Tensor(\n",
    "    [\n",
    "        [-1, 2, -3],\n",
    "        [3, -4, 5]\n",
    "    ]\n",
    ")\n",
    "print(t1.abs())\n",
    "#  print(| t1 |)  绝对值没有| | 这个符号"
   ]
  },
  {
   "cell_type": "markdown",
   "metadata": {},
   "source": [
    "#### 四则运算的四个版本\n",
    "\n",
    "\n",
    "1. 版本一：\n",
    "    - 运算符： + \n",
    "2. 版本二：\n",
    "    - 成员函数： add\n",
    "3. 版本三：\n",
    "    - 替换修改函数 ：add_\n",
    "4. 版本四：\n",
    "    - 全局函数：torch.add\n",
    "\n",
    "\n",
    "----\n",
    "- 注意：\n",
    "    - 某些运算符的成员函数或者全局函数没有实现，比如truediv没有，代替的是div。\n",
    "    - 具体支持哪个版本在查看运算符的时候，文档会有说明。\n",
    "    - 下面与运算符有关的依次类推。"
   ]
  },
  {
   "cell_type": "code",
   "execution_count": null,
   "metadata": {},
   "outputs": [],
   "source": [
    "import torch\n",
    "\n",
    "t1 = torch.Tensor(\n",
    "    [\n",
    "        [1, 2, 3],\n",
    "        [3, 4, 5]\n",
    "    ]\n",
    ")\n",
    "t2 = torch.Tensor(\n",
    "    [\n",
    "        [9, 8, 7],\n",
    "        [6, 5, 4]\n",
    "    ]\n",
    ")\n",
    "print(t1 + t2)\n",
    "print(t1.add(t2))\n",
    "print(t1.add_(t2))\n",
    "print(torch.add(t1, t2))"
   ]
  },
  {
   "cell_type": "markdown",
   "metadata": {},
   "source": [
    "### 比较运算"
   ]
  },
  {
   "cell_type": "markdown",
   "metadata": {},
   "source": [
    "1. `__lt__`\n",
    "2. `__le__`\n",
    "3. `__gt__`\n",
    "4. `__ge__`\n",
    "5. `__eq__`\n",
    "6. `__ne__`\n",
    "\n",
    "----\n",
    "- 提示：\n",
    "   - 运算符版\n",
    "   - 成员函数的两个版本：lt与lt_\n",
    "   - 全局函数版本：torch.lt\n",
    "   \n",
    "   - 记得向量运算：\n",
    "       - 向量与向量\n",
    "       - 向量与标量"
   ]
  },
  {
   "cell_type": "code",
   "execution_count": null,
   "metadata": {
    "scrolled": true
   },
   "outputs": [],
   "source": [
    "import torch\n",
    "\n",
    "t1 = torch.Tensor(\n",
    "    [\n",
    "        [1, 2, 3],\n",
    "        [3, 4, 5]\n",
    "    ]\n",
    ")\n",
    "t2 = torch.Tensor(\n",
    "    [\n",
    "        [9, 8, 7],\n",
    "        [6, 5, 4]\n",
    "    ]\n",
    ")\n",
    "\n",
    "print(t1 > t2)\n",
    "print(t1.gt(t2))\n",
    "print(torch.gt(t1,  t2))\n",
    "print(t1.gt_(t2))     # 保留了原来浮点数的风格"
   ]
  },
  {
   "cell_type": "code",
   "execution_count": null,
   "metadata": {},
   "outputs": [],
   "source": [
    "# 向量  与 标量\n",
    "import torch\n",
    "\n",
    "t1 = torch.Tensor(\n",
    "    [\n",
    "        [1, 2, 3],\n",
    "        [3, 4, 5]\n",
    "    ]\n",
    ")\n",
    "t2 = torch.Tensor(\n",
    "    [\n",
    "        [9, 8, 7],\n",
    "        [6, 5, 4]\n",
    "    ]\n",
    ")\n",
    "\n",
    "print(t1 > 2)\n",
    "print(t1.gt(2))\n",
    "print(torch.gt(t1,  2))    # 第一个必须是Tensor\n",
    "print(t1.gt_(2))     # 保留了原来浮点数的风格"
   ]
  },
  {
   "cell_type": "markdown",
   "metadata": {},
   "source": [
    "### 逻辑运算"
   ]
  },
  {
   "cell_type": "markdown",
   "metadata": {},
   "source": [
    "- Tensor没有重载and，or，xor， not等四个逻辑运算，逻辑运算还是采用的是Python的标量运算"
   ]
  },
  {
   "cell_type": "markdown",
   "metadata": {},
   "source": [
    "### 位运算\n",
    "\n",
    "1. `__and__(self, value, /)`\n",
    "2. `__or__(self, value, /)`\n",
    "3. `__xor__(self, value, /)`\n",
    "4. `__invert__(self, /)`\n",
    "\n",
    "5. `__lshift__(self, value, /)`\n",
    "6. `__rshift__(self, value, /)`\n",
    "----\n"
   ]
  },
  {
   "cell_type": "code",
   "execution_count": null,
   "metadata": {
    "scrolled": true
   },
   "outputs": [],
   "source": [
    "# 向量  与 标量\n",
    "import torch\n",
    "\n",
    "t1 = torch.LongTensor(\n",
    "    [\n",
    "        [1, 2, 3],\n",
    "        [3, 4, 5]\n",
    "    ]\n",
    ")\n",
    "\n",
    "print(t1 & 1)    # and\n",
    "print(t1 | 1)     # or\n",
    "print(t1 ^ 1)   # xor\n",
    "print(t1 >> 1)   # rshift\n",
    "print(t1 << 1)   # lshift\n",
    "print(~t1)       # invert"
   ]
  },
  {
   "cell_type": "markdown",
   "metadata": {},
   "source": [
    "### 复合运算\n",
    "\n",
    "- 所谓符合运算就是 += 这类运算，类似于成员函数带_下划线后缀。\n",
    "\n",
    "----\n",
    "\n",
    "1.  加减\n",
    "    - `__iadd__(...)`\n",
    "    - `__isub__(...)`\n",
    "2. 乘除\n",
    "    - `__itruediv__ = __idiv__(...)`\n",
    "    - `__imul__(...)`\n",
    "    - `__idiv__(...)`    # 兼容python2.0\n",
    "3. 求幂\n",
    "    - `__ipow__(self, other)`\n",
    "\n",
    "4. 位算术\n",
    "    - `__iand__(...)`\n",
    "    - `__ior__(...)`\n",
    "    - `__ixor__(...)`\n",
    "5. 位移\n",
    "    - `__ilshift__(...)`\n",
    "    - `__irshift__(...)`\n",
    "    \n",
    "----\n",
    "- 注意：\n",
    "    - 求余是没有赋值复合的。"
   ]
  },
  {
   "cell_type": "code",
   "execution_count": null,
   "metadata": {
    "scrolled": true
   },
   "outputs": [],
   "source": [
    "# 注意：向量 与 向量       --  向量  与标量\n",
    "import torch\n",
    "\n",
    "t1 = torch.Tensor(\n",
    "    [\n",
    "        [1, 2, 3],\n",
    "        [3, 4, 5]\n",
    "    ]\n",
    ")\n",
    "t2 = torch.Tensor(\n",
    "    [\n",
    "        [9, 8, 7],\n",
    "        [6, 5, 4]\n",
    "    ]\n",
    ")\n",
    "t1 += t2\n",
    "print(t1)\n",
    "t1 -= t2\n",
    "print(t1)\n",
    "t1 *= t2\n",
    "print(t1)\n",
    "t1 //= t2\n",
    "print(t1)\n",
    "t1 /= t2\n",
    "print(t1) \n",
    "# t1 **= t2    # 文档提供，但没有实现\n",
    "# t1 **=2\n",
    "t1 /= 2\n",
    "print(t1)"
   ]
  },
  {
   "cell_type": "markdown",
   "metadata": {},
   "source": [
    "### 其他运算"
   ]
  },
  {
   "cell_type": "markdown",
   "metadata": {},
   "source": [
    "- 四舍五入：\n",
    "    - round\n",
    "    - max\n",
    "    - min\n",
    "    - all\n",
    "    - any\n",
    "    - mode：返回商与余数\n",
    "    - sqrt\n",
    "    - rsqrt : 平方根倒数\n",
    "    - sign"
   ]
  },
  {
   "cell_type": "markdown",
   "metadata": {},
   "source": [
    "## 指数与对数函数\n",
    "\n",
    "- 在Python内置提供了指数函数，这里的指数函数是指自然指数。"
   ]
  },
  {
   "cell_type": "markdown",
   "metadata": {},
   "source": [
    "### exp函数\n",
    "\n",
    "1. `exp(input, out=None) -> Tensor`：$f(x) = e^{x}$\n",
    "2. `expm1(input, out=None) -> Tensor`: $f(x) = e^{x} -1$\n",
    "3. `exponential_(lambd=1, *, generator=None) -> Tensor`：$f(x) = \\lambda e^{-\\lambda x}$"
   ]
  },
  {
   "cell_type": "code",
   "execution_count": null,
   "metadata": {},
   "outputs": [],
   "source": [
    "%matplotlib inline\n",
    "import matplotlib.pyplot as plt\n",
    "import torch\n",
    "\n",
    "x = torch.linspace(-1, 1, 100)\n",
    "y_1 = x.exp()\n",
    "y_2 = x.expm1()\n",
    "\n",
    "x_ = x.clone()\n",
    "y_3 = x_.exponential_(lambd=1)     # λ=1 该函数与exp函数一样，但是这是一个随机分布函数，返回的满足随机取样\n",
    "plt.figure(\"指数函数\", figsize=(10, 10))\n",
    "ax1 = plt.subplot(221)\n",
    "ax1.plot(x, y_1, color=(1,0,0,1))\n",
    "ax2 = plt.subplot(222)\n",
    "ax2.plot(x, y_2, color=(1,1,0,1))\n",
    "ax3 = plt.subplot(223)\n",
    "ax3.plot(x, y_3, color=(1,0,1,1))\n",
    "plt.show()"
   ]
  },
  {
   "cell_type": "markdown",
   "metadata": {},
   "source": [
    "###  log函数"
   ]
  },
  {
   "cell_type": "markdown",
   "metadata": {},
   "source": [
    "1. `log(input, out=None) -> Tensor`：$y_{i} = \\log_{e} (x_{i})$\n",
    "2. `log10(input, out=None) -> Tensor`：$y_{i} = \\log_{10} (x_{i})$\n",
    "3. `log2(input, out=None) -> Tensor`：$y_{i} = \\log_{2} (x_{i})$\n",
    "4. `log1p(input, out=None) -> Tensor`：$y_i = \\log_{e} (x_i + 1)$\n",
    "5. `log_normal_(mean=1, std=2, *, generator=None)`：$f(x) = \\dfrac{1}{x \\sigma \\sqrt{2\\pi}}\\ e^{-\\frac{(\\ln x - \\mu)^2}{2\\sigma^2}}$：随机采样"
   ]
  },
  {
   "cell_type": "code",
   "execution_count": null,
   "metadata": {},
   "outputs": [],
   "source": [
    "%matplotlib inline\n",
    "import matplotlib.pyplot as plt\n",
    "import torch\n",
    "\n",
    "x = torch.linspace(-10, 10, 100)\n",
    "y_1 = x.log()\n",
    "y_2 = x.log2()\n",
    "y_3 = x.log10()\n",
    "\n",
    "y_4 = x.log1p()\n",
    "x_ = x.clone()\n",
    "y_5 = x_.log_normal_()\n",
    "\n",
    "plt.figure(\"指数函数\", figsize=(15, 10))\n",
    "ax1 = plt.subplot(231)\n",
    "ax1.plot(x, y_1, color=(1, 0, 0, 1))\n",
    "ax2 = plt.subplot(232)\n",
    "ax2.plot(x, y_2, color=(0, 1, 0, 1))\n",
    "ax3 = plt.subplot(233)\n",
    "ax3.plot(x, y_3, color=(0, 0, 1, 1))\n",
    "ax4 = plt.subplot(234)\n",
    "ax4.plot(x, y_4, color=(0, 1, 1, 1))\n",
    "ax5 = plt.subplot(235)\n",
    "ax5.plot(x, y_5, color=(1, 0, 1, 1))\n",
    "plt.show()"
   ]
  },
  {
   "cell_type": "markdown",
   "metadata": {},
   "source": [
    "## 三角函数运算\n",
    "\n",
    "1. `sin() -> Tensor`与`sin_() -> Tensor`\n",
    "2. `cos() -> Tensor`与`cos_() -> Tensor`\n",
    "3. `tan() -> Tensor`与`tan_() -> Tensor`\n",
    "\n",
    "\n",
    "---\n",
    "\n",
    "4. `asin() -> Tensor`与`asin_() -> Tensor`\n",
    "5. `acos() -> Tensor`与`acos_() -> Tensor`\n",
    "6. `atan() -> Tensor`与`atan_() -> Tensor`\n",
    "7. `atan2() -> Tensor`与`atan2_() -> Tensor`\n"
   ]
  },
  {
   "cell_type": "code",
   "execution_count": null,
   "metadata": {
    "scrolled": true
   },
   "outputs": [],
   "source": [
    "%matplotlib inline\n",
    "import matplotlib.pyplot as plt\n",
    "import torch\n",
    "import math\n",
    "\n",
    "x = torch.linspace(-2*math.pi, 2*math.pi, 100)\n",
    "y_1 = x.sin()\n",
    "y_2 = x.cos()\n",
    "y_3 = x.tan()\n",
    "\n",
    "plt.figure(\"指数函数\", figsize=(15, 5))\n",
    "ax1 = plt.subplot(131)\n",
    "ax1.plot(x, y_1, color=(1, 0, 0, 1))\n",
    "ax2 = plt.subplot(132)\n",
    "ax2.plot(x, y_2, color=(0, 1, 0, 1))\n",
    "ax3 = plt.subplot(133)\n",
    "ax3.plot(x, y_3, color=(0, 0, 1, 1))\n",
    "\n",
    "plt.show()"
   ]
  },
  {
   "cell_type": "markdown",
   "metadata": {},
   "source": [
    "## 双曲函数运算"
   ]
  },
  {
   "attachments": {
    "image.png": {
     "image/png": "[encoded data removed]"
    }
   },
   "cell_type": "markdown",
   "metadata": {},
   "source": [
    "- 双曲函数表达式\n",
    "    - ![image.png](attachment:image.png)"
   ]
  },
  {
   "cell_type": "markdown",
   "metadata": {},
   "source": [
    "### 双曲正弦\n",
    "\n",
    "1. `sinh_() -> Tensor`\n",
    "2. `sinh() -> Tensor`"
   ]
  },
  {
   "cell_type": "code",
   "execution_count": null,
   "metadata": {},
   "outputs": [],
   "source": [
    "%matplotlib inline\n",
    "import matplotlib.pyplot as plt\n",
    "import torch\n",
    "import math\n",
    "\n",
    "x = torch.linspace(-10, 10, 100)\n",
    "y = x.sinh()\n",
    "plt.plot(x, y, color=(1, 0, 0, 1))\n",
    "plt.show()"
   ]
  },
  {
   "cell_type": "markdown",
   "metadata": {},
   "source": [
    "### 双曲余弦\n",
    "\n",
    "1. `cosh_() -> Tensor`\n",
    "2. `cosh() -> Tensor`"
   ]
  },
  {
   "cell_type": "code",
   "execution_count": null,
   "metadata": {},
   "outputs": [],
   "source": [
    "%matplotlib inline\n",
    "import matplotlib.pyplot as plt\n",
    "import torch\n",
    "import math\n",
    "\n",
    "x = torch.linspace(-10, 10, 100)\n",
    "y = x.cosh()\n",
    "plt.plot(x, y, color=(1, 0, 0, 1))\n",
    "plt.show()"
   ]
  },
  {
   "cell_type": "markdown",
   "metadata": {},
   "source": [
    "### 双曲正切\n",
    "1. `tanh_() -> Tensor`\n",
    "2. `tanh() -> Tensor`"
   ]
  },
  {
   "cell_type": "code",
   "execution_count": null,
   "metadata": {},
   "outputs": [],
   "source": [
    "%matplotlib inline\n",
    "import matplotlib.pyplot as plt\n",
    "import torch\n",
    "import math\n",
    "\n",
    "x = torch.linspace(-10, 10, 100)\n",
    "y = x.tanh()\n",
    "plt.plot(x, y, color=(1, 0, 0, 1))\n",
    "plt.show()"
   ]
  },
  {
   "cell_type": "markdown",
   "metadata": {},
   "source": [
    "## 统计运算"
   ]
  },
  {
   "cell_type": "markdown",
   "metadata": {},
   "source": [
    "### 求和函数与求阶乘\n",
    "\n",
    "- `cumsum(dim, dtype=None) -> Tensor`\n",
    "- `cumprod(dim, dtype=None) -> Tensor`\n",
    "- `sum(dim=None, keepdim=False, dtype=None) -> Tensor`\n",
    "- `sum_to_size(*size) -> Tensor`\n",
    "- `prod(dim=None, keepdim=False, dtype=None) -> Tensor`"
   ]
  },
  {
   "cell_type": "code",
   "execution_count": null,
   "metadata": {},
   "outputs": [],
   "source": [
    "import torch\n",
    "\n",
    "t = torch.Tensor(\n",
    "    [\n",
    "        [1, 2, 3, 4],\n",
    "        [3, 4, 5, 6]\n",
    "    ]\n",
    ")\n",
    "\n",
    "print(t.cumsum(dim=0))   # 按照行累加\n",
    "print(t.sum(dim=(), keepdim=True))\n",
    "print(t.sum(dim=(1), keepdim=True))\n",
    "print(t.sum(dim=(0), keepdim=True))\n",
    "print(t.sum(dim=(1, 0), keepdim=True))\n",
    "print('---------')\n",
    "print(t.sum_to_size(2,1))   # 行不动，列按照求和合并为1\n",
    "print(t.sum_to_size(1,4))   # 列不动，行按照求和合并为1\n",
    "print(t.sum_to_size(1,1))   # 行列累加"
   ]
  },
  {
   "cell_type": "markdown",
   "metadata": {},
   "source": [
    "### 均值函数\n",
    "\n",
    "- `mean(dim=None, keepdim=False) -> Tensor or (Tensor, Tensor)`"
   ]
  },
  {
   "cell_type": "code",
   "execution_count": null,
   "metadata": {},
   "outputs": [],
   "source": [
    "import torch\n",
    "\n",
    "t = torch.Tensor(\n",
    "    [\n",
    "        [1, 2, 3, 4],\n",
    "        [3, 4, 5, 6]\n",
    "    ]\n",
    ")\n",
    "print(t.mean())\n",
    "print(t.mean(1))\n",
    "print(t.mean(dim=(1), keepdim=True))\n",
    "print(t.mean(dim=(0), keepdim=False))"
   ]
  },
  {
   "cell_type": "markdown",
   "metadata": {},
   "source": [
    "### 方差与标准差\n",
    "- ` std(dim=None, unbiased=True, keepdim=False) -> Tensor`\n",
    "    - unbiased：无偏与有偏方差\n",
    "    - 标准差与方差的区别是多了一个平方根运算\n",
    "- `var(dim=None, unbiased=True, keepdim=False) -> Tensor`"
   ]
  },
  {
   "cell_type": "code",
   "execution_count": null,
   "metadata": {},
   "outputs": [],
   "source": [
    "import torch\n",
    "\n",
    "t = torch.Tensor(\n",
    "    [\n",
    "        [1, 2, 3, 4],\n",
    "        [3, 4, 5, 6]\n",
    "    ]\n",
    ")\n",
    "print(t.std())\n",
    "print(t.var())\n",
    "print(t.std(unbiased=False))\n",
    "print(t.var(unbiased=False))"
   ]
  },
  {
   "cell_type": "markdown",
   "metadata": {},
   "source": [
    "### 误差函数\n",
    "- 误差相关函数：\n",
    "    - Y = erf(X)             Error function\n",
    "    - Y = erfc(X)            Complementary error function（补误差函数）\n",
    "    - Y = erfcx(X)           Scaled complementary error function\n",
    "    - X = erfinv(Y)          Inverse error function(误差函数的反函数)\n",
    "    - X = erfcinv(Y)         Inverse complementary error function（补误差函数的反函数）\n",
    "- 函数公式：\n",
    "    - $\\mathrm{erf}(x) = \\frac{2}{\\sqrt{\\pi}} \\int_{0}^{x} e^{-t^2} dt$\n",
    "    - $\\text{erfc}(x)  = 1 - \\text{erf}(x) $\n",
    "    - $\\text{erfcx} (x) = e^{x^2} \\text{erf}$\n",
    "        - 当x很大的时候：$\\text{erfcx} \\approx (\\dfrac{1}{\\sqrt{\\pi}}) \\dfrac{1}{x}$"
   ]
  },
  {
   "cell_type": "markdown",
   "metadata": {},
   "source": [
    "1. `erf() -> Tensor`\n",
    "2. `erfc() -> Tensor`\n",
    "3. `erfinv() -> Tensor`"
   ]
  },
  {
   "cell_type": "code",
   "execution_count": null,
   "metadata": {},
   "outputs": [],
   "source": [
    "%matplotlib inline\n",
    "import matplotlib.pyplot as plt\n",
    "import torch\n",
    "import math\n",
    "\n",
    "x = torch.linspace(-10, 10, 100)\n",
    "y = x.erf()\n",
    "plt.plot(x, y, color=(1, 0, 0, 1))\n",
    "plt.plot(x, x.erfc(), color=(0, 0, 1, 1))\n",
    "plt.show()"
   ]
  },
  {
   "cell_type": "markdown",
   "metadata": {},
   "source": [
    "### 直方计数\n",
    "\n",
    "1. `histc(bins=100, min=0, max=0) -> Tensor`\n",
    "    - bins：直方统计的箱子数"
   ]
  },
  {
   "cell_type": "code",
   "execution_count": null,
   "metadata": {},
   "outputs": [],
   "source": [
    "%matplotlib inline\n",
    "import matplotlib.pyplot as plt\n",
    "import torch\n",
    "import math\n",
    "\n",
    "t = torch.randint(low=0,  high=10, size=(100,), dtype=torch.float)\n",
    "print(t)\n",
    "h = t.histc(bins=5)   # 直方统计，分成多个段，每个段的数量\n",
    "print(h)\n",
    "\n",
    "plt.hist(t, bins=5, rwidth=0.5, color='red')\n",
    "plt.show()"
   ]
  },
  {
   "cell_type": "markdown",
   "metadata": {},
   "source": [
    "### 中值\n",
    "\n",
    "- `median(dim=None, keepdim=False) -> (Tensor, LongTensor)`\n"
   ]
  },
  {
   "cell_type": "code",
   "execution_count": null,
   "metadata": {},
   "outputs": [],
   "source": [
    "import torch\n",
    "\n",
    "t = torch.Tensor(\n",
    "    [\n",
    "        [1, 2, 3, 4],\n",
    "        [3, 4, 5, 6]\n",
    "    ]\n",
    ")\n",
    "\n",
    "print(t.median())"
   ]
  },
  {
   "cell_type": "markdown",
   "metadata": {},
   "source": [
    "### 最大值，最小值"
   ]
  },
  {
   "cell_type": "markdown",
   "metadata": {},
   "source": [
    "1. `max(dim=None, keepdim=False) -> Tensor or (Tensor, Tensor)`\n",
    "2. `min(dim=None, keepdim=False) -> Tensor or (Tensor, Tensor)`\n",
    "3. `argmax(dim=None, keepdim=False) -> LongTensor`\n",
    "4. `argmin(dim=None, keepdim=False) -> LongTensor`\n"
   ]
  },
  {
   "cell_type": "code",
   "execution_count": null,
   "metadata": {},
   "outputs": [],
   "source": [
    "import torch\n",
    "\n",
    "t = torch.Tensor(\n",
    "    [\n",
    "        [1, 2, 3, 4],\n",
    "        [3, 4, 5, 6]\n",
    "    ]\n",
    ")\n",
    "print(t.max())\n",
    "print(t.min())\n",
    "print(t.argmax())\n",
    "print(t.argmax(dim=0))   # 按照行取最大值"
   ]
  },
  {
   "cell_type": "markdown",
   "metadata": {},
   "source": [
    "# 线性代数运算"
   ]
  },
  {
   "cell_type": "markdown",
   "metadata": {},
   "source": [
    "## 转置运算\n",
    "\n",
    "- 2D维转置\n",
    "    - `t() -> Tensor`\n",
    "    - `t_() -> Tensor`\n",
    "\n",
    "- 多维维数交换\n",
    "    - `transpose(dim0, dim1) -> Tensor`\n",
    "    - `transpose_(dim0, dim1) -> Tensor`"
   ]
  },
  {
   "cell_type": "code",
   "execution_count": null,
   "metadata": {},
   "outputs": [],
   "source": [
    "import torch\n",
    "\n",
    "t = torch.Tensor(\n",
    "    [\n",
    "        [1, 2, 3, 4],\n",
    "        [3, 4, 5, 6]\n",
    "    ]\n",
    ")\n",
    "print(t.t())\n",
    "print(t.transpose(1, 0))"
   ]
  },
  {
   "cell_type": "markdown",
   "metadata": {},
   "source": [
    "## 逆矩阵运算\n",
    "\n",
    "- `inverse() -> Tensor`\n",
    "    - 必须是方阵。"
   ]
  },
  {
   "cell_type": "code",
   "execution_count": null,
   "metadata": {},
   "outputs": [],
   "source": [
    "import torch\n",
    "\n",
    "t = torch.Tensor(\n",
    "    [\n",
    "        [1, 2, 3],\n",
    "        [3, 4, 5],\n",
    "        [5, 6, 7]\n",
    "    ]\n",
    ")\n",
    "print(t.inverse())"
   ]
  },
  {
   "cell_type": "markdown",
   "metadata": {},
   "source": [
    "## 行列式计算\n",
    "- `det() -> Tensor`"
   ]
  },
  {
   "cell_type": "code",
   "execution_count": null,
   "metadata": {},
   "outputs": [],
   "source": [
    "import torch\n",
    "\n",
    "t = torch.Tensor(\n",
    "    [\n",
    "        [1, 2],\n",
    "        [3, 4]\n",
    "    ]\n",
    ")\n",
    "print(t.det())"
   ]
  },
  {
   "cell_type": "markdown",
   "metadata": {},
   "source": [
    "## 特征分解计算\n",
    "\n",
    "- `eig(eigenvectors=False) -> (Tensor, Tensor)`"
   ]
  },
  {
   "cell_type": "code",
   "execution_count": null,
   "metadata": {},
   "outputs": [],
   "source": [
    "import torch\n",
    "\n",
    "t = torch.Tensor(\n",
    "    [\n",
    "        [1, 2],\n",
    "        [3, 4]\n",
    "    ]\n",
    ")\n",
    "print(t.eig(eigenvectors=True))"
   ]
  },
  {
   "cell_type": "markdown",
   "metadata": {},
   "source": [
    "## 奇异值分解计算\n",
    "\n",
    "- `svd(some=True, compute_uv=True) -> (Tensor, Tensor, Tensor)`"
   ]
  },
  {
   "cell_type": "code",
   "execution_count": null,
   "metadata": {},
   "outputs": [],
   "source": [
    "import torch\n",
    "\n",
    "t = torch.Tensor(\n",
    "    [\n",
    "        [1, 2, 3, 4],\n",
    "        [3, 4, 5, 6]\n",
    "    ]\n",
    ")\n",
    "\n",
    "print(t.svd())\n",
    "print(t.svd(some=False))\n",
    "print(t.qr(some=False))"
   ]
  },
  {
   "cell_type": "markdown",
   "metadata": {},
   "source": [
    "## QR分解\n",
    "- `qr(some=True) -> (Tensor, Tensor)`"
   ]
  },
  {
   "cell_type": "code",
   "execution_count": null,
   "metadata": {},
   "outputs": [],
   "source": [
    "import torch\n",
    "\n",
    "t = torch.Tensor(\n",
    "    [\n",
    "        [1, 2, 3, 4],\n",
    "        [3, 4, 5, 6]\n",
    "    ]\n",
    ")\n",
    "\n",
    "print(t.qr(some=False))"
   ]
  },
  {
   "cell_type": "markdown",
   "metadata": {},
   "source": [
    "## 内积与叉集\n",
    "\n",
    "- `dot(tensor2) -> Tensor`\n",
    "    - 点积(只对向量)\n",
    "- `cross(other, dim=-1) -> Tensor`\n",
    "    - 叉乘：就是两个向量的正交向量（必须是3维的）。\n",
    "- `matmul(tensor2) -> Tensor`\n",
    "    - 矩阵内积\n",
    "- `mul(value) -> Tensor`\n",
    "    - 按照元素乘"
   ]
  },
  {
   "cell_type": "code",
   "execution_count": null,
   "metadata": {},
   "outputs": [],
   "source": [
    "import torch\n",
    "\n",
    "t1 = torch.Tensor(\n",
    "    [\n",
    "        [1, 2, 3],\n",
    "        [3, 4, 5]\n",
    "    ]\n",
    ")\n",
    "t2 = torch.Tensor(\n",
    "    [\n",
    "        [1, 2, 3],\n",
    "        [3, 4, 5]\n",
    "    ]\n",
    ")\n",
    "print(t1.cross(t2, dim=1))\n",
    "print(t1[0].dot(t2[0]))\n",
    "print(t1.matmul(t2.T))\n",
    "print(t1.mul(t2))"
   ]
  },
  {
   "cell_type": "markdown",
   "metadata": {},
   "source": [
    "## 方程求解\n",
    "\n",
    "- `solve(A) -> Tensor, Tensor`\n",
    "    - 表示代数方程的解：$AX=B$\n",
    "        - B表示张量本身\n",
    "        - A表示代数方程的系数；"
   ]
  },
  {
   "cell_type": "code",
   "execution_count": null,
   "metadata": {},
   "outputs": [],
   "source": [
    "import torch\n",
    "\n",
    "B = torch.Tensor(\n",
    "    [\n",
    "        [1],\n",
    "        [1],\n",
    "        [1]\n",
    "    ]\n",
    ")\n",
    "\n",
    "\n",
    "A = torch.Tensor(\n",
    "    [\n",
    "        [1, 0, 0],\n",
    "        [0, 2, 0],\n",
    "        [0, 0, 3]\n",
    "    ]\n",
    ")\n",
    "\n",
    "print(B.solve(A))\n",
    "# AX=B"
   ]
  },
  {
   "cell_type": "markdown",
   "metadata": {},
   "source": [
    "# 神经网络中的激活函数运算\n",
    "\n",
    "- 在Torch中，还有专门的激活函数实现模块，这里只是介绍Tensor类及其相关的简单部分。\n"
   ]
  },
  {
   "cell_type": "markdown",
   "metadata": {},
   "source": [
    "1. `prelu()`\n",
    "    - Parametric Rectified Linear Unit：带参数的RELU\n",
    "    - 小于0的部分添加了一个参数（斜率）\n",
    "2. `relu(...)`\n",
    "3. `sigmoid() -> Tensor`\n",
    "4. `sign() -> Tensor`\n",
    "5. `softmax(...)`\n",
    "    - 概率化：自然指数标准化\n",
    "6. `tanh() -> Tensor`\n"
   ]
  },
  {
   "cell_type": "code",
   "execution_count": null,
   "metadata": {},
   "outputs": [],
   "source": [
    "%matplotlib inline\n",
    "import matplotlib.pyplot as plt\n",
    "import torch\n",
    "import math\n",
    "\n",
    "x = torch.linspace(-10, 10, 100)\n",
    "y = x.prelu(weight=torch.tensor(0.1))\n",
    "plt.plot(x, y, color=(1, 0, 0, 1))\n",
    "plt.show()"
   ]
  },
  {
   "cell_type": "code",
   "execution_count": null,
   "metadata": {},
   "outputs": [],
   "source": [
    "%matplotlib inline\n",
    "import matplotlib.pyplot as plt\n",
    "import torch\n",
    "import math\n",
    "\n",
    "x = torch.linspace(-10, 10, 100)\n",
    "y = x.softmax(dim=0)\n",
    "plt.plot(x, y, color=(1, 0, 0, 1))\n",
    "plt.show()"
   ]
  },
  {
   "cell_type": "markdown",
   "metadata": {},
   "source": [
    "# 其他运算"
   ]
  },
  {
   "cell_type": "markdown",
   "metadata": {},
   "source": [
    "---- "
   ]
  }
 ],
 "metadata": {
  "kernelspec": {
   "display_name": "Python 3",
   "language": "python",
   "name": "python3"
  },
  "language_info": {
   "codemirror_mode": {
    "name": "ipython",
    "version": 3
   },
   "file_extension": ".py",
   "mimetype": "text/x-python",
   "name": "python",
   "nbconvert_exporter": "python",
   "pygments_lexer": "ipython3",
   "version": "3.6.6"
  },
  "toc": {
   "base_numbering": 1,
   "nav_menu": {},
   "number_sections": true,
   "sideBar": true,
   "skip_h1_title": false,
   "title_cell": "Table of Contents",
   "title_sidebar": "Contents",
   "toc_cell": false,
   "toc_position": {},
   "toc_section_display": true,
   "toc_window_display": true
  }
 },
 "nbformat": 4,
 "nbformat_minor": 2
}
