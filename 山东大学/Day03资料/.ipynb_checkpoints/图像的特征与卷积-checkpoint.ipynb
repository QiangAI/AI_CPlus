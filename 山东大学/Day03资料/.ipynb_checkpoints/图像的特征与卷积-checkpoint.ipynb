{
 "cells": [
  {
   "cell_type": "markdown",
   "metadata": {},
   "source": [
    "# 1. 图像表示与处理"
   ]
  },
  {
   "cell_type": "markdown",
   "metadata": {},
   "source": [
    "```C++\n",
    "void image_format(cv::Mat& img){\n",
    "    for(int y = 0; y < img.rows; y++){\n",
    "        for(int x = 0; x < img.cols; x++){\n",
    "            cv::Vec3b& pixel = img.at<cv::Vec3b>(y, x);\n",
    "            pixel[2] = 0;  // 改变颜色通道\n",
    "        }\n",
    "    }\n",
    "}\n",
    "```"
   ]
  },
  {
   "cell_type": "markdown",
   "metadata": {},
   "source": [
    "# 2. 图像特征"
   ]
  },
  {
   "cell_type": "markdown",
   "metadata": {},
   "source": [
    "## 2.1. 卷积运算"
   ]
  },
  {
   "cell_type": "markdown",
   "metadata": {},
   "source": [
    "- 卷积运算公式：\n",
    "    - $$ h(x) = \\int _{- \\infty} ^{ + \\infty} f(\\tau)  g(x- \\tau) \\mathrm{d} \\tau$$"
   ]
  },
  {
   "cell_type": "markdown",
   "metadata": {},
   "source": [
    "- 离散方式：\n",
    "    - $x \\to (x, y)$\n",
    "    - $\\tau \\to (i, j)$\n",
    "    - $\\int \\to  \\sum $\n",
    "    - $$ h(x, y) = \\sum _{(i, j) \\in [-N, N]} f(i, j) g(x-i, y-j) $$"
   ]
  },
  {
   "cell_type": "markdown",
   "metadata": {},
   "source": [
    "- $$ h(x, y) = \\sum _{(i, j) \\in [-1, 1]} f(i, j) g(x+i, y+j) $$"
   ]
  },
  {
   "cell_type": "markdown",
   "metadata": {},
   "source": [
    "- 反卷积运算\n",
    "    - $f(i,j), \\quad (i, j) \\in [-N , N] $ 称为卷积核\n",
    "    - $g(x,y), \\quad (x, y) \\in [-\\infty, +\\infty] $ 图像 \n",
    "    - $h(x, y)$称为特征图(Feature Map)"
   ]
  },
  {
   "cell_type": "markdown",
   "metadata": {},
   "source": [
    "- 提供了一个函数来做卷积运算：\n",
    "    - 高斯模糊\n",
    "        - Gaussblur\n",
    "    - 卷积运算\n",
    "        - filter2D"
   ]
  },
  {
   "cell_type": "markdown",
   "metadata": {},
   "source": [
    "## 2.2. 图像特征的定义"
   ]
  },
  {
   "cell_type": "markdown",
   "metadata": {},
   "source": [
    "- 定义的方式：\n",
    "    - 统计定义\n",
    "    - 微积分定义\n",
    "    - ....\n",
    "    "
   ]
  },
  {
   "cell_type": "markdown",
   "metadata": {},
   "source": [
    "- 图像特征：\n",
    "    - 变化的部分才是图像特征\n",
    "    \n",
    "    - 像素的变化（像素的梯度）\n",
    "        - 斑点\n",
    "        - 边界\n",
    "        - 角点\n",
    "    - 数学原型：\n",
    "        - 微分/求导\n",
    "        - 一阶导数： Sobel梯度\n",
    "        - 二阶导数： Laplace梯度\n",
    "    - 一个图像进行求导运算，得到梯度特征图\n",
    "        - 怎么对图像求导"
   ]
  },
  {
   "cell_type": "markdown",
   "metadata": {},
   "source": [
    "- 图像的求导模型\n",
    "    - $ f ^{\\prime}(x) = \\lim \\limits _{\\epsilon \\to 0} \\dfrac{f(x+ \\epsilon) - f(x - \\epsilon) }{2\\epsilon}$\n",
    "    - $\\epsilon = 1$"
   ]
  },
  {
   "cell_type": "markdown",
   "metadata": {},
   "source": [
    "- $f^{\\prime}(x) \\approx  \\dfrac{f(x+1) - f(x-1)}{2}$"
   ]
  },
  {
   "cell_type": "markdown",
   "metadata": {},
   "source": [
    "- $f^{\\prime}_{+}(x) \\approx  {f(x+1) - f(x) + 0 \\times f(x-1)}$"
   ]
  },
  {
   "cell_type": "markdown",
   "metadata": {},
   "source": [
    "- 从方程表示方式到代数向量表示方式\n",
    "    - 公式表示（略）\n",
    "    - 图像的梯度计算（图像微分）可使用卷积运算表示。"
   ]
  },
  {
   "cell_type": "markdown",
   "metadata": {},
   "source": [
    "- 偏导数（1rank / 1 rank）的融合：\n",
    "    - 和\n",
    "    - 1范数：\n",
    "    - 2范数"
   ]
  },
  {
   "cell_type": "markdown",
   "metadata": {},
   "source": [
    "## 2.3. 图像特征的计算"
   ]
  },
  {
   "cell_type": "markdown",
   "metadata": {},
   "source": [
    "```C++\n",
    "void gaussian_blur(cv::Mat& in_img, cv::Mat& out_img){\n",
    "    cv::GaussianBlur(in_img, out_img, cv::Size(9, 9), 10);\n",
    "}\n",
    "void conv(cv::Mat& in_img, cv::Mat& out_img){\n",
    "    cv::Mat kernel = (cv::Mat_<int>(3, 3) << 1, 1, 1, 0, 0, 0, -1, -1, -1);\n",
    "    cv::filter2D(in_img, out_img, -1, kernel, cv::Point(-1, -1), 200);\n",
    "}\n",
    "void sobel(cv::Mat& in_img, cv::Mat& out_img){\n",
    "    cv::Sobel(in_img, out_img, -1, 1, 1, 3, 1.0, 200);\n",
    "}\n",
    "\n",
    "```"
   ]
  },
  {
   "cell_type": "markdown",
   "metadata": {},
   "source": [
    "# 3. 图像特征学习"
   ]
  },
  {
   "cell_type": "markdown",
   "metadata": {},
   "source": [
    "- 卷积运算对图像的大小的影响\n",
    "    - 经过卷积运算图像变小：\n",
    "        - 原图像大小：$S$\n",
    "        - 卷积核大小：$K$\n",
    "        - 目标图像大小：$D = S - K + 1$"
   ]
  },
  {
   "cell_type": "markdown",
   "metadata": {},
   "source": [
    "- $32 , 5 \\to 28$"
   ]
  },
  {
   "cell_type": "markdown",
   "metadata": {},
   "source": [
    "- 假设想目标图像大小=原图像\n",
    "    - 对原图像补边：padding = $\\dfrac{K-1}{2}$"
   ]
  },
  {
   "cell_type": "markdown",
   "metadata": {},
   "source": [
    "- 图像降维：\n",
    "    - 池化运算：pool\n",
    "        - 均值\n",
    "        - 最大池化：（推荐）\n",
    "    - 负像素：\n",
    "        - 过滤（负的像素值设置为0）\n",
    "        - 激活函数activity function。\n",
    "    "
   ]
  },
  {
   "cell_type": "markdown",
   "metadata": {},
   "source": [
    "-----"
   ]
  }
 ],
 "metadata": {
  "kernelspec": {
   "display_name": "Python 3",
   "language": "python",
   "name": "python3"
  },
  "language_info": {
   "codemirror_mode": {
    "name": "ipython",
    "version": 3
   },
   "file_extension": ".py",
   "mimetype": "text/x-python",
   "name": "python",
   "nbconvert_exporter": "python",
   "pygments_lexer": "ipython3",
   "version": "3.6.6"
  }
 },
 "nbformat": 4,
 "nbformat_minor": 4
}
