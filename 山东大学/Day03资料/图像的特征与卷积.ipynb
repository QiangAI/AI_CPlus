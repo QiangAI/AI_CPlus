{
 "cells": [
  {
   "cell_type": "markdown",
   "metadata": {},
   "source": [
    "# 1. 图像表示"
   ]
  },
  {
   "cell_type": "markdown",
   "metadata": {},
   "source": [
    "# 2. 图像特征"
   ]
  },
  {
   "cell_type": "markdown",
   "metadata": {},
   "source": [
    "## 2.1. 卷积运算"
   ]
  },
  {
   "cell_type": "markdown",
   "metadata": {},
   "source": [
    "- 卷积运算公式：\n",
    "    - $$ h(x) = \\int _{- \\infty} ^{ + \\infty} f(\\tau)  g(x- \\tau) \\mathrm{d} \\tau$$"
   ]
  },
  {
   "cell_type": "markdown",
   "metadata": {},
   "source": [
    "- 离散方式：\n",
    "    - $x \\to (x, y)$\n",
    "    - $\\tau \\to (i, j)$\n",
    "    - $\\int \\to  \\sum $\n",
    "    - $$ h(x, y) = \\sum _{(i, j) \\in [-N, N]} f(i, j) g(x-i, y-j) $$"
   ]
  },
  {
   "cell_type": "markdown",
   "metadata": {},
   "source": [
    "- $$ h(x, y) = \\sum _{(i, j) \\in [-1, 1]} f(i, j) g(x+i, y+j) $$"
   ]
  },
  {
   "cell_type": "markdown",
   "metadata": {},
   "source": [
    "- 反卷积运算\n",
    "    - $f(i,j), \\quad (i, j) \\in [-N , N] $ 称为卷积核\n",
    "    - $g(x,y), \\quad (x, y) \\in [-\\infty, +\\infty] $ 图像 \n",
    "    - $h(x, y)$称为特征图(Feature Map)"
   ]
  },
  {
   "cell_type": "markdown",
   "metadata": {},
   "source": [
    "- 提供了一个函数来做卷积运算：\n",
    "    - 高斯模糊\n",
    "        - Gaussblur\n",
    "    - 卷积运算\n",
    "        - filter2D"
   ]
  },
  {
   "cell_type": "markdown",
   "metadata": {},
   "source": [
    "## 2.2. 图像特征的定义"
   ]
  },
  {
   "cell_type": "markdown",
   "metadata": {},
   "source": [
    "- 定义的方式：\n",
    "    - 统计定义\n",
    "    - 微积分定义\n",
    "    - ....\n",
    "    "
   ]
  },
  {
   "cell_type": "markdown",
   "metadata": {},
   "source": [
    "- 图像特征：\n",
    "    - 变化的部分才是图像特征\n",
    "    \n",
    "    - 像素的变化（像素的梯度）\n",
    "        - 斑点\n",
    "        - 边界\n",
    "        - 角点\n",
    "    - 数学原型：\n",
    "        - 微分/求导\n",
    "        - 一阶导数： Sobel梯度\n",
    "        - 二阶导数： Laplace梯度\n",
    "    - 一个图像进行求导运算，得到梯度特征图\n",
    "        - 怎么对图像求导"
   ]
  },
  {
   "cell_type": "markdown",
   "metadata": {},
   "source": [
    "- 图像的求导模型\n",
    "    - $ f ^{\\prime}(x) = \\lim \\limits _{\\epsilon \\to 0} \\dfrac{f(x+ \\epsilon) - f(x - \\epsilon) }{2\\epsilon}$\n",
    "    - $\\epsilon = 1$"
   ]
  },
  {
   "cell_type": "markdown",
   "metadata": {},
   "source": [
    "- $f^{\\prime}(x) \\approx  \\dfrac{f(x+1) - f(x-1)}{2}$"
   ]
  },
  {
   "cell_type": "markdown",
   "metadata": {},
   "source": [
    "- $f^{\\prime}_{+}(x) \\approx  {f(x+1) - f(x) + 0 \\times f(x-1)}$"
   ]
  },
  {
   "cell_type": "markdown",
   "metadata": {},
   "source": [
    "- 从方程表示方式到代数向量表示方式\n",
    "    - 公式表示（略）\n",
    "    - 图像的梯度计算（图像微分）可使用卷积运算表示。"
   ]
  },
  {
   "cell_type": "markdown",
   "metadata": {},
   "source": [
    "- 偏导数（1rank / 1 rank）的融合：\n",
    "    - 和\n",
    "    - 1范数：\n",
    "    - 2范数"
   ]
  },
  {
   "cell_type": "markdown",
   "metadata": {},
   "source": [
    "## 2.3. 图像特征的计算"
   ]
  },
  {
   "cell_type": "code",
   "execution_count": null,
   "metadata": {},
   "outputs": [],
   "source": [
    "import cv2\n",
    "import numpy\n",
    "img = cv2.imread(\"gpu.bmp\")\n",
    "# kernel = numpy.ndarray(shape=(9, 9), dtype=numpy.float)\n",
    "# kernel.fill(1.0/81)\n",
    "\n",
    "# kernel= numpy.array(\n",
    "#     [\n",
    "#         [-1,  0,  1],\n",
    "#         [-1,  0,  0],\n",
    "#         [-1,  0,  1]\n",
    "#     ]\n",
    "# )\n",
    "\n",
    "# img_filter2D = cv2.filter2D(img, -1, kernel, delta= 0)\n",
    "img_filter2D = cv2.Sobel(img, -1, 2, 2, ksize = 3, scale = 1.0,  delta=1.0)\n",
    "cv2.imwrite(\"9.jpg\", img_filter2D)"
   ]
  },
  {
   "cell_type": "markdown",
   "metadata": {},
   "source": [
    "# 3. 图像特征学习"
   ]
  },
  {
   "cell_type": "markdown",
   "metadata": {},
   "source": [
    "- 卷积运算对图像的大小的影响\n",
    "    - 经过卷积运算图像变小：\n",
    "        - 原图像大小：$S$\n",
    "        - 卷积核大小：$K$\n",
    "        - 目标图像大小：$D = S - K + 1$"
   ]
  },
  {
   "cell_type": "markdown",
   "metadata": {},
   "source": [
    "- $32 , 5 \\to 28$"
   ]
  },
  {
   "cell_type": "markdown",
   "metadata": {},
   "source": [
    "- 假设想目标图像大小=原图像\n",
    "    - 对原图像补边：padding = $\\dfrac{K-1}{2}$"
   ]
  },
  {
   "cell_type": "markdown",
   "metadata": {},
   "source": [
    "- 图像降维：\n",
    "    - 池化运算：pool\n",
    "        - 均值\n",
    "        - 最大池化：（推荐）\n",
    "    - 负像素：\n",
    "        - 过滤（负的像素值设置为0）\n",
    "        - 激活函数activity function。\n",
    "    "
   ]
  },
  {
   "cell_type": "markdown",
   "metadata": {},
   "source": [
    "- MNIST类"
   ]
  },
  {
   "cell_type": "markdown",
   "metadata": {},
   "source": [
    " - 总结：\n",
    "     - 卷积神经网络： 图像特征抽取 + 分类器\n",
    "         - 训练的图像的卷积核参数\n",
    "         - 训练的分类器的参数\n",
    "         - 梯度下降法："
   ]
  },
  {
   "cell_type": "markdown",
   "metadata": {},
   "source": []
  }
 ],
 "metadata": {
  "kernelspec": {
   "display_name": "Python 3",
   "language": "python",
   "name": "python3"
  },
  "language_info": {
   "codemirror_mode": {
    "name": "ipython",
    "version": 3
   },
   "file_extension": ".py",
   "mimetype": "text/x-python",
   "name": "python",
   "nbconvert_exporter": "python",
   "pygments_lexer": "ipython3",
   "version": "3.6.6"
  }
 },
 "nbformat": 4,
 "nbformat_minor": 4
}
