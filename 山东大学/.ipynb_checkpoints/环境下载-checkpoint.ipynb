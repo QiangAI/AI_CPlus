{
 "cells": [
  {
   "cell_type": "markdown",
   "metadata": {
    "toc-hr-collapsed": false
   },
   "source": [
    "# 人工智能C++开发环境"
   ]
  },
  {
   "cell_type": "markdown",
   "metadata": {},
   "source": [
    "## 目录\n",
    "\n",
    "1. 编译器与连接器 - Visual Studio 2019\n",
    "2. 代码编辑器 - VS Code\n",
    "3. 工具 - CMake"
   ]
  },
  {
   "cell_type": "markdown",
   "metadata": {
    "toc-hr-collapsed": true
   },
   "source": [
    "## 1. 编译器与连接器 - Visual Studio 2019"
   ]
  },
  {
   "cell_type": "markdown",
   "metadata": {},
   "source": [
    "> - 使用微软的**cl编译器**与**link/lib**编译器，微软的**编译器cl**与**连接器link/lib**可以通过安装Visual Studio获取。\n",
    ">\n",
    "> - 安装Visual Studio后可以同时得到`nmake.exe`工程组织工具，以及其他开发工具，比如`dumpbin.exe`"
   ]
  },
  {
   "cell_type": "markdown",
   "metadata": {},
   "source": [
    "### 1.1. 官网下载地址"
   ]
  },
  {
   "cell_type": "markdown",
   "metadata": {},
   "source": [
    "- 下载地址：\n",
    "    \n",
    "    - https://visualstudio.microsoft.com/zh-hans/downloads/\n",
    "    \n",
    "- 下载指令：\n",
    "    - 下载免费交流版：`vs_community.exe --layout --add Microsoft.VisualStudio.Workload.NativeDesktop --includeRecommended --lang zh-cn`\n",
    "    - 下载企业C++开发版（需要序列号）：`vs_enterprise.exe  --layout --add Microsoft.VisualStudio.Workload.NativeDesktop --includeRecommended --lang zh-cn`\n",
    "    - 下载企业完整版：`vs_enterprise.exe  --layout --lang zh-cn`"
   ]
  },
  {
   "cell_type": "markdown",
   "metadata": {},
   "source": [
    "- **提示：**\n",
    "    - 统一要求下载 `2019版本`\n",
    "    \n",
    "    - 推荐下载免费版本：`Visual Studio Community 2019`"
   ]
  },
  {
   "cell_type": "markdown",
   "metadata": {},
   "source": [
    "### 1.2. 百度云盘下载地址"
   ]
  },
  {
   "cell_type": "markdown",
   "metadata": {},
   "source": [
    "- 链接：\n",
    "    - https://pan.baidu.com/s/1dj7ChkLldGR84074GGWL7g \n",
    "- 提取码：\n",
    "    - `0jss` "
   ]
  },
  {
   "cell_type": "markdown",
   "metadata": {},
   "source": [
    "------------"
   ]
  },
  {
   "cell_type": "markdown",
   "metadata": {
    "toc-hr-collapsed": true
   },
   "source": [
    "## 2. 代码编辑器 -VS Code"
   ]
  },
  {
   "cell_type": "markdown",
   "metadata": {},
   "source": [
    "> - 这次实训一律不采用Visual Studio IDE作为开发编码工具，而是统一采用高颜值编辑器VS Code(Visual Studio Code)。\n",
    ">\n",
    "> - 采用VS Code编辑器工具的主要目的：\n",
    ">\n",
    ">    1. 自己组织工程，掌握编译与链接过程。\n",
    ">\n",
    ">    2. 掌握编译器与连接器"
   ]
  },
  {
   "cell_type": "markdown",
   "metadata": {},
   "source": [
    "### 2.1. 官网下载地址"
   ]
  },
  {
   "cell_type": "markdown",
   "metadata": {},
   "source": [
    "- 下载地址（VS Code是免费的）：\n",
    "\n",
    "    - https://visualstudio.microsoft.com/zh-hans/downloads/"
   ]
  },
  {
   "cell_type": "markdown",
   "metadata": {},
   "source": [
    "### 2.2. 百度云盘下载地址"
   ]
  },
  {
   "cell_type": "markdown",
   "metadata": {},
   "source": [
    "- 链接：\n",
    "    - https://pan.baidu.com/s/1FogH79LHDSoF43QG5s2Cbg \n",
    "- 提取码：\n",
    "    - `z1u1` "
   ]
  },
  {
   "cell_type": "markdown",
   "metadata": {},
   "source": [
    "------------"
   ]
  },
  {
   "cell_type": "markdown",
   "metadata": {
    "toc-hr-collapsed": true
   },
   "source": [
    "## 3. 工具 - CMake "
   ]
  },
  {
   "cell_type": "markdown",
   "metadata": {},
   "source": [
    "> - CMake工具是一款项目工程组织工具，很多开源的C++项目都是使用CMake工具组织工程，在源代码编译安装都需要使用CMake，所有我们在这里需要安装CMake工具。\n",
    ">\n",
    "> - CMake工具的作用与NMake工具一样，不过CMake组织的工程可以解决跨平台的问题。"
   ]
  },
  {
   "cell_type": "markdown",
   "metadata": {},
   "source": [
    "### 3.1. 官网下载地址"
   ]
  },
  {
   "cell_type": "markdown",
   "metadata": {},
   "source": [
    "- 下载地址：\n",
    "    - https://cmake.org/download/"
   ]
  },
  {
   "cell_type": "markdown",
   "metadata": {},
   "source": [
    "### 3.2. 百度云盘下载地址"
   ]
  },
  {
   "cell_type": "markdown",
   "metadata": {},
   "source": [
    "- 链接：\n",
    "    - https://pan.baidu.com/s/1eIGTkBD2_RgfhP1Y4PZ5gQ \n",
    "- 提取码：\n",
    "    - `vmr8` "
   ]
  },
  {
   "cell_type": "markdown",
   "metadata": {
    "toc-hr-collapsed": true
   },
   "source": [
    "## 4. 工具 - git"
   ]
  },
  {
   "cell_type": "markdown",
   "metadata": {},
   "source": [
    "> - git工具是代码管理客户端工具，遵循git的相关协议，是目前很多开源软件提供的下载工具，对开发协作提供极大的方便。\n",
    "> - 我们这儿使用git客户端有两个目的：\n",
    ">     1. 下载SDK的源代码；\n",
    ">     2. 上传作业与实训的工程项目到中国高科集团的git服务器；"
   ]
  },
  {
   "cell_type": "markdown",
   "metadata": {},
   "source": [
    "### 4.1. 官网下载地址"
   ]
  },
  {
   "cell_type": "markdown",
   "metadata": {},
   "source": [
    "- 下载地址：\n",
    "    - https://www.git-scm.com/download/"
   ]
  },
  {
   "cell_type": "markdown",
   "metadata": {},
   "source": [
    "### 4.2. 百度云盘下载地址"
   ]
  },
  {
   "cell_type": "markdown",
   "metadata": {},
   "source": [
    "- 链接：\n",
    "    - https://pan.baidu.com/s/1yknr6yP1cqSWh3hDDvZu1A \n",
    "- 提取码：\n",
    "    - `vbwr` "
   ]
  },
  {
   "cell_type": "markdown",
   "metadata": {},
   "source": [
    "------------"
   ]
  },
  {
   "cell_type": "markdown",
   "metadata": {
    "toc-hr-collapsed": true
   },
   "source": [
    "## 5. SDK与模块 - Qt 5.14"
   ]
  },
  {
   "cell_type": "markdown",
   "metadata": {},
   "source": [
    "> - Qt 是GUI开发SDK，实训中程序的交互GUI使用Qt来开发实现，还会使用到Qt的多线程封装，图像显示等。\n",
    ">\n",
    "> - 我们使用源代码编译安装（这是C++无法跨平台的解决方案）。"
   ]
  },
  {
   "cell_type": "markdown",
   "metadata": {},
   "source": [
    "### 5.1. 官网下载地址"
   ]
  },
  {
   "cell_type": "markdown",
   "metadata": {},
   "source": [
    "- 下载地址：\n",
    "    - http://download.qt.io/archive/qt/5.14/5.14.2/"
   ]
  },
  {
   "cell_type": "markdown",
   "metadata": {},
   "source": [
    "### 5.2. 百度云盘下载地址"
   ]
  },
  {
   "cell_type": "markdown",
   "metadata": {},
   "source": [
    "- 链接：\n",
    "    - https://pan.baidu.com/s/1i-bozjopVVSqX00tUt3syg \n",
    "- 提取码：\n",
    "    - `o8sn` "
   ]
  },
  {
   "cell_type": "markdown",
   "metadata": {},
   "source": [
    "- 说明：\n",
    "    - qt-everywhere-src-5.14.2.zip是源代码安装文件；\n",
    "    - qt-opensource-windows-x86-5.14.2.zip是二进制安装文件；"
   ]
  },
  {
   "cell_type": "markdown",
   "metadata": {},
   "source": [
    "-------------"
   ]
  },
  {
   "cell_type": "markdown",
   "metadata": {
    "toc-hr-collapsed": true
   },
   "source": [
    "## 6. SDK与模块 - OpenCV 4.2"
   ]
  },
  {
   "cell_type": "markdown",
   "metadata": {},
   "source": [
    "> - OpenCV在这次实训中，主要用来处理图像、抓取视频、图像标注等，实际上OpenCV还提供了Torch C++训练的模型加载支持。\n",
    ">\n",
    "> - OpenCV在编译安装的时候，可以选择支持GPU（如果电脑支持GPU，并安装了GPU的话），GPU主要是NVIDIA的cuda（Compute Unified Device Architecture）。"
   ]
  },
  {
   "cell_type": "markdown",
   "metadata": {},
   "source": [
    "### 6.1. 官网下载地址"
   ]
  },
  {
   "cell_type": "markdown",
   "metadata": {},
   "source": [
    "- 下载地址：\n",
    "    - https://opencv.org/releases/"
   ]
  },
  {
   "cell_type": "markdown",
   "metadata": {},
   "source": [
    "### 6.2. 百度云盘下载地址"
   ]
  },
  {
   "cell_type": "markdown",
   "metadata": {},
   "source": [
    "- 链接：\n",
    "    - https://pan.baidu.com/s/1irGMoXpMpNNZkznopkR7LA \n",
    "- 提取码：\n",
    "    - `wz7b` "
   ]
  },
  {
   "cell_type": "markdown",
   "metadata": {},
   "source": [
    "- 说明：\n",
    "    - opencv-4.2.0_src_modified.zip：修改了国内无法放文件链接（推荐）\n",
    "    - opencv4.2_src_core_contrib.zip.zip：从github下载的源代码\n",
    "    - opencv-4.2.0-vc14_vc15.zip：二进制安装文件"
   ]
  },
  {
   "cell_type": "markdown",
   "metadata": {},
   "source": [
    "-------------"
   ]
  },
  {
   "cell_type": "markdown",
   "metadata": {
    "toc-hr-collapsed": true
   },
   "source": [
    "## 7. SDK与模块 - Torch C++ 1.5.1"
   ]
  },
  {
   "cell_type": "markdown",
   "metadata": {},
   "source": [
    "- Torch C++是我们实现深度学习模型的SDK，Torch提供张量封装，自动求导，运算封装，深度学习模型的封装，数据集处理框架等。"
   ]
  },
  {
   "cell_type": "markdown",
   "metadata": {},
   "source": [
    "### 7.1. 官网下载地址"
   ]
  },
  {
   "cell_type": "markdown",
   "metadata": {},
   "source": [
    "- 下载地址：\n",
    "    - https://pytorch.org/\n",
    "        - 下载的配置页面\n",
    "    - https://download.pytorch.org/libtorch/cpu/libtorch-win-shared-with-deps-1.5.1+cpu.zip\n",
    "    - https://download.pytorch.org/libtorch/cpu/libtorch-win-shared-with-deps-debug-1.5.1+cpu.zip"
   ]
  },
  {
   "cell_type": "markdown",
   "metadata": {},
   "source": [
    "- 说明：\n",
    "    - 可以修改链接地址中的版本号下载一前的版本。"
   ]
  },
  {
   "cell_type": "markdown",
   "metadata": {},
   "source": [
    "### 7.2. 百度云盘下载地址"
   ]
  },
  {
   "cell_type": "markdown",
   "metadata": {},
   "source": [
    "- 链接：\n",
    "    - https://pan.baidu.com/s/1k4M92HMeIAwRTbYfUZqALw \n",
    "- 提取码：\n",
    "    - `hl6a` "
   ]
  },
  {
   "cell_type": "markdown",
   "metadata": {},
   "source": [
    "- 说明：\n",
    "    - libtorch-win-shared-with-deps-debug-1.5.1+cpu.zip是Debug版本；（推荐）\n",
    "    - libtorch-win-shared-with-deps-1.5.1+cpu.zip是Release版本；"
   ]
  },
  {
   "cell_type": "markdown",
   "metadata": {},
   "source": [
    "-------------"
   ]
  }
 ],
 "metadata": {
  "kernelspec": {
   "display_name": "Python 3",
   "language": "python",
   "name": "python3"
  },
  "language_info": {
   "codemirror_mode": {
    "name": "ipython",
    "version": 3
   },
   "file_extension": ".py",
   "mimetype": "text/x-python",
   "name": "python",
   "nbconvert_exporter": "python",
   "pygments_lexer": "ipython3",
   "version": "3.6.6"
  }
 },
 "nbformat": 4,
 "nbformat_minor": 4
}
